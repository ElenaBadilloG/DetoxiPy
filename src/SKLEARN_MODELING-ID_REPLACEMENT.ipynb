{
 "cells": [
  {
   "cell_type": "code",
   "execution_count": 2,
   "metadata": {},
   "outputs": [
    {
     "name": "stdout",
     "output_type": "stream",
     "text": [
      "The autoreload extension is already loaded. To reload it, use:\n",
      "  %reload_ext autoreload\n"
     ]
    }
   ],
   "source": [
    "import pandas as pd\n",
    "import numpy as np\n",
    "from modelling.sklearn_dataload import DataPrep\n",
    "from modelling.sklearn_pipeline import Pipeline, model_exec, IDENTITY_COLUMNS\n",
    "from dataprep.data_prep import TextPrep\n",
    "from sklearn.linear_model import LogisticRegression\n",
    "from sklearn.ensemble import RandomForestClassifier\n",
    "from sklearn.naive_bayes import MultinomialNB\n",
    "import os\n",
    "%load_ext autoreload\n",
    "%autoreload 2"
   ]
  },
  {
   "cell_type": "code",
   "execution_count": 3,
   "metadata": {},
   "outputs": [],
   "source": [
    "grid = {\n",
    "            'LR': {\n",
    "                'type': LogisticRegression(solver='liblinear'),\n",
    "                'grid': {\n",
    "                    'penalty': ['l1','l2'], \n",
    "                    'C': [0.00001, 0.0001, 0.001, 0.01, 0.1, 1, 10]\n",
    "                    }\n",
    "                },\n",
    "            'NB': {\n",
    "                'type': MultinomialNB(),\n",
    "                'grid': {\n",
    "                    'alpha' : [1.0, 0.1, 0.01]\n",
    "                }\n",
    "            },\n",
    "            'RF': {\n",
    "            'type': RandomForestClassifier(n_estimators=50, n_jobs=-1),\n",
    "            'grid': {\n",
    "                'n_estimators': [10,100], \n",
    "                'max_depth': [5,50], \n",
    "                'max_features': ['sqrt','log2'],\n",
    "                'min_samples_split': [2,10]\n",
    "            }\n",
    "        }  \n",
    "}\n",
    "\n",
    "run_type = 'build'\n",
    "scoring = 'auc-roc'\n",
    "sample_pct = 5\n",
    "score_k_val = 50"
   ]
  },
  {
   "cell_type": "code",
   "execution_count": 4,
   "metadata": {},
   "outputs": [],
   "source": [
    "TRAIN = '../dataset/train.csv'"
   ]
  },
  {
   "cell_type": "code",
   "execution_count": 5,
   "metadata": {},
   "outputs": [],
   "source": [
    "dp = DataPrep(text_col='comment_text', label_col='target')\n",
    "tp = TextPrep()"
   ]
  },
  {
   "cell_type": "code",
   "execution_count": 6,
   "metadata": {
    "scrolled": true
   },
   "outputs": [
    {
     "name": "stdout",
     "output_type": "stream",
     "text": [
      "LOADING 5% OF DATA\n",
      "LOADING FEATURE STAGING DATA\n",
      "DATASET LEN: 90244\n",
      "SPLITTING INTO X, y\n",
      "PRELIMINARY TEXT PROCESSING\n"
     ]
    }
   ],
   "source": [
    "print('LOADING {}% OF DATA'.format(sample_pct))\n",
    "df = dp.load_data(TRAIN, ['target'], sample_pct, 1234)\n",
    "df = dp.binarize_label(df, 0.5)\n",
    "text = dp.get_text(df)\n",
    "print('DATASET LEN: {}'.format(len(df)))\n",
    "\n",
    "print('SPLITTING INTO X, y')\n",
    "X, y = dp.split_X_y(df)\n",
    "\n",
    "print('PRELIMINARY TEXT PROCESSING')\n",
    "clean_data = text.apply(tp.clean, rm_caps=True, map_punct=True, cl_special=True, \n",
    "                        sp_check=False, replace_id=True, rm_stop=False, \n",
    "                        stem=True, mp_contract=True)"
   ]
  },
  {
   "cell_type": "code",
   "execution_count": 7,
   "metadata": {},
   "outputs": [
    {
     "name": "stdout",
     "output_type": "stream",
     "text": [
      "CREATING TFIDF FEATURES\n",
      "JOINING TFIDF FEATURES\n",
      "droppingxx\n",
      "SPLITTING INTO TRAIN AND TEST\n",
      "(72195, 9999) (18049, 9999) (72195,) (18049,)\n"
     ]
    }
   ],
   "source": [
    "print('CREATING TFIDF FEATURES')\n",
    "tfidf = dp.create_text_feats(clean_data, 'tfidf', ngram_range=(1,3), max_features=10000)\n",
    "\n",
    "print('JOINING TFIDF FEATURES')\n",
    "X = dp.join_features(X, tfidf)\n",
    "\n",
    "print('SPLITTING INTO TRAIN AND TEST')\n",
    "X_train, X_test, y_train, y_test = dp.train_test_split(X, y, test_size=.2, train_size=.8, random_state=1234, stratify=None)\n",
    "print(X_train.shape, X_test.shape, y_train.shape, y_test.shape)"
   ]
  },
  {
   "cell_type": "code",
   "execution_count": 8,
   "metadata": {},
   "outputs": [
    {
     "name": "stdout",
     "output_type": "stream",
     "text": [
      "The path of the model object used for this run is found at \n",
      "models_store\n",
      "The scoring function used for this run is: auc-roc\n",
      "The probabilistic threshold at which the score is calculated is 50\n",
      "The parameter grid used for the search is: \n",
      "{'LR': {'type': LogisticRegression(C=1.0, class_weight=None, dual=False, fit_intercept=True,\n",
      "          intercept_scaling=1, max_iter=100, multi_class='warn',\n",
      "          n_jobs=None, penalty='l2', random_state=None, solver='liblinear',\n",
      "          tol=0.0001, verbose=0, warm_start=False), 'grid': {'penalty': ['l1', 'l2'], 'C': [1e-05, 0.0001, 0.001, 0.01, 0.1, 1, 10]}}, 'NB': {'type': MultinomialNB(alpha=1.0, class_prior=None, fit_prior=True), 'grid': {'alpha': [1.0, 0.1, 0.01]}}, 'RF': {'type': RandomForestClassifier(bootstrap=True, class_weight=None, criterion='gini',\n",
      "            max_depth=None, max_features='auto', max_leaf_nodes=None,\n",
      "            min_impurity_decrease=0.0, min_impurity_split=None,\n",
      "            min_samples_leaf=1, min_samples_split=2,\n",
      "            min_weight_fraction_leaf=0.0, n_estimators=50, n_jobs=-1,\n",
      "            oob_score=False, random_state=None, verbose=0,\n",
      "            warm_start=False), 'grid': {'n_estimators': [10, 100], 'max_depth': [5, 50], 'max_features': ['sqrt', 'log2'], 'min_samples_split': [2, 10]}}}\n",
      "\n",
      "BEGINNING GRID SEARCH\n",
      "USING SCORING FUNCTION: make_scorer(auc_roc)\n",
      "LogisticRegression(C=1.0, class_weight=None, dual=False, fit_intercept=True,\n",
      "          intercept_scaling=1, max_iter=100, multi_class='warn',\n",
      "          n_jobs=None, penalty='l2', random_state=None, solver='liblinear',\n",
      "          tol=0.0001, verbose=0, warm_start=False) {'penalty': ['l1', 'l2'], 'C': [1e-05, 0.0001, 0.001, 0.01, 0.1, 1, 10]}\n",
      "LogisticRegression(C=1.0, class_weight=None, dual=False, fit_intercept=True,\n",
      "          intercept_scaling=1, max_iter=100, multi_class='warn',\n",
      "          n_jobs=None, penalty='l2', random_state=None, solver='liblinear',\n",
      "          tol=0.0001, verbose=0, warm_start=False)\n",
      "GridSearchCV(cv=5, error_score='raise-deprecating',\n",
      "       estimator=LogisticRegression(C=1.0, class_weight=None, dual=False, fit_intercept=True,\n",
      "          intercept_scaling=1, max_iter=100, multi_class='warn',\n",
      "          n_jobs=None, penalty='l2', random_state=None, solver='liblinear',\n",
      "          tol=0.0001, verbose=0, warm_start=False),\n",
      "       fit_params=None, iid='warn', n_jobs=None,\n",
      "       param_grid={'penalty': ['l1', 'l2'], 'C': [1e-05, 0.0001, 0.001, 0.01, 0.1, 1, 10]},\n",
      "       pre_dispatch='2*n_jobs', refit=True, return_train_score=True,\n",
      "       scoring=make_scorer(auc_roc), verbose=0)\n",
      "LogisticRegression(C=10, class_weight=None, dual=False, fit_intercept=True,\n",
      "          intercept_scaling=1, max_iter=100, multi_class='warn',\n",
      "          n_jobs=None, penalty='l1', random_state=None, solver='liblinear',\n",
      "          tol=0.0001, verbose=0, warm_start=False)\n",
      "0.7133801624645028\n",
      "models_store\n",
      "/Users/hyeyeonchang/Documents/Spring2019/machine_learning/DetoxiPy/src\n",
      "MODEL STORED AT models_store/id_repl_5pct_auc_roc_LR_2019-06-06 08:18:54.992504.joblib\n",
      "TESTING SELECTED MODEL ON TEST DATA\n"
     ]
    },
    {
     "name": "stderr",
     "output_type": "stream",
     "text": [
      "/Library/Frameworks/Python.framework/Versions/3.6/lib/python3.6/site-packages/sklearn/metrics/classification.py:1143: UndefinedMetricWarning: Precision is ill-defined and being set to 0.0 due to no predicted samples.\n",
      "  'precision', 'predicted', average, warn_for)\n"
     ]
    },
    {
     "name": "stdout",
     "output_type": "stream",
     "text": [
      "TEST PRECISION AT 50: 0.0\n",
      "TEST RECALL AT 50: 0.0\n",
      "TEST ACCURACY AT 50: 0.9442628400465399\n",
      "AUC ROC: 0.8604414701721025\n",
      "CONFUSION MATRIX:\n",
      "   pred_neg  pred_pos\n",
      "0     17043         0\n",
      "1      1006         0\n",
      "USING SCORING FUNCTION: make_scorer(auc_roc)\n",
      "MultinomialNB(alpha=1.0, class_prior=None, fit_prior=True) {'alpha': [1.0, 0.1, 0.01]}\n",
      "MultinomialNB(alpha=1.0, class_prior=None, fit_prior=True)\n",
      "GridSearchCV(cv=5, error_score='raise-deprecating',\n",
      "       estimator=MultinomialNB(alpha=1.0, class_prior=None, fit_prior=True),\n",
      "       fit_params=None, iid='warn', n_jobs=None,\n",
      "       param_grid={'alpha': [1.0, 0.1, 0.01]}, pre_dispatch='2*n_jobs',\n",
      "       refit=True, return_train_score=True, scoring=make_scorer(auc_roc),\n",
      "       verbose=0)\n",
      "MultinomialNB(alpha=0.01, class_prior=None, fit_prior=True)\n",
      "0.5182073269808414\n",
      "models_store\n",
      "/Users/hyeyeonchang/Documents/Spring2019/machine_learning/DetoxiPy/src\n",
      "MODEL STORED AT models_store/id_repl_5pct_auc_roc_NB_2019-06-06 08:21:05.661565.joblib\n",
      "TESTING SELECTED MODEL ON TEST DATA\n"
     ]
    },
    {
     "name": "stderr",
     "output_type": "stream",
     "text": [
      "/Library/Frameworks/Python.framework/Versions/3.6/lib/python3.6/site-packages/sklearn/metrics/classification.py:1143: UndefinedMetricWarning: Precision is ill-defined and being set to 0.0 due to no predicted samples.\n",
      "  'precision', 'predicted', average, warn_for)\n"
     ]
    },
    {
     "name": "stdout",
     "output_type": "stream",
     "text": [
      "TEST PRECISION AT 50: 0.0\n",
      "TEST RECALL AT 50: 0.0\n",
      "TEST ACCURACY AT 50: 0.9442628400465399\n",
      "AUC ROC: 0.8156453522017574\n",
      "CONFUSION MATRIX:\n",
      "   pred_neg  pred_pos\n",
      "0     17043         0\n",
      "1      1006         0\n",
      "USING SCORING FUNCTION: make_scorer(auc_roc)\n",
      "RandomForestClassifier(bootstrap=True, class_weight=None, criterion='gini',\n",
      "            max_depth=None, max_features='auto', max_leaf_nodes=None,\n",
      "            min_impurity_decrease=0.0, min_impurity_split=None,\n",
      "            min_samples_leaf=1, min_samples_split=2,\n",
      "            min_weight_fraction_leaf=0.0, n_estimators=50, n_jobs=-1,\n",
      "            oob_score=False, random_state=None, verbose=0,\n",
      "            warm_start=False) {'n_estimators': [10, 100], 'max_depth': [5, 50], 'max_features': ['sqrt', 'log2'], 'min_samples_split': [2, 10]}\n",
      "RandomForestClassifier(bootstrap=True, class_weight=None, criterion='gini',\n",
      "            max_depth=None, max_features='auto', max_leaf_nodes=None,\n",
      "            min_impurity_decrease=0.0, min_impurity_split=None,\n",
      "            min_samples_leaf=1, min_samples_split=2,\n",
      "            min_weight_fraction_leaf=0.0, n_estimators=50, n_jobs=-1,\n",
      "            oob_score=False, random_state=None, verbose=0,\n",
      "            warm_start=False)\n",
      "GridSearchCV(cv=5, error_score='raise-deprecating',\n",
      "       estimator=RandomForestClassifier(bootstrap=True, class_weight=None, criterion='gini',\n",
      "            max_depth=None, max_features='auto', max_leaf_nodes=None,\n",
      "            min_impurity_decrease=0.0, min_impurity_split=None,\n",
      "            min_samples_leaf=1, min_samples_split=2,\n",
      "            min_weight_fraction_leaf=0.0, n_estimators=50, n_jobs=-1,\n",
      "            oob_score=False, random_state=None, verbose=0,\n",
      "            warm_start=False),\n",
      "       fit_params=None, iid='warn', n_jobs=None,\n",
      "       param_grid={'n_estimators': [10, 100], 'max_depth': [5, 50], 'max_features': ['sqrt', 'log2'], 'min_samples_split': [2, 10]},\n",
      "       pre_dispatch='2*n_jobs', refit=True, return_train_score=True,\n",
      "       scoring=make_scorer(auc_roc), verbose=0)\n",
      "RandomForestClassifier(bootstrap=True, class_weight=None, criterion='gini',\n",
      "            max_depth=50, max_features='sqrt', max_leaf_nodes=None,\n",
      "            min_impurity_decrease=0.0, min_impurity_split=None,\n",
      "            min_samples_leaf=1, min_samples_split=10,\n",
      "            min_weight_fraction_leaf=0.0, n_estimators=10, n_jobs=-1,\n",
      "            oob_score=False, random_state=None, verbose=0,\n",
      "            warm_start=False)\n",
      "0.5491201702800058\n",
      "models_store\n",
      "/Users/hyeyeonchang/Documents/Spring2019/machine_learning/DetoxiPy/src\n",
      "MODEL STORED AT models_store/id_repl_5pct_auc_roc_RF_2019-06-06 09:03:23.762488.joblib\n",
      "TESTING SELECTED MODEL ON TEST DATA\n",
      "TEST PRECISION AT 50: 0.0\n",
      "TEST RECALL AT 50: 0.0\n",
      "TEST ACCURACY AT 50: 0.9442628400465399\n",
      "AUC ROC: 0.8210686884968426\n",
      "CONFUSION MATRIX:\n",
      "   pred_neg  pred_pos\n",
      "0     17043         0\n",
      "1      1006         0\n"
     ]
    },
    {
     "name": "stderr",
     "output_type": "stream",
     "text": [
      "/Library/Frameworks/Python.framework/Versions/3.6/lib/python3.6/site-packages/sklearn/metrics/classification.py:1143: UndefinedMetricWarning: Precision is ill-defined and being set to 0.0 due to no predicted samples.\n",
      "  'precision', 'predicted', average, warn_for)\n"
     ]
    }
   ],
   "source": [
    "iteration_name = 'id_repl_5pct_auc_roc'\n",
    "model_exec(run_type, iteration_name, grid, \n",
    "           scoring, score_k_val, X_train, y_train, X_test, y_test)"
   ]
  },
  {
   "cell_type": "code",
   "execution_count": null,
   "metadata": {},
   "outputs": [],
   "source": [
    "print('LOADING {}% OF DATA'.format(sample_pct))\n",
    "df = dp.load_data(TRAIN, ['target'], sample_pct, 1234)\n",
    "df = dp.binarize_label(df, 0.5)\n",
    "text = dp.get_text(df)\n",
    "print('DATASET LEN: {}'.format(len(df)))\n",
    "\n",
    "print('SPLITTING INTO X, y')\n",
    "X, y = dp.split_X_y(df)"
   ]
  },
  {
   "cell_type": "code",
   "execution_count": 10,
   "metadata": {},
   "outputs": [],
   "source": [
    "# import os\n",
    "# os.listdir('models_store/')"
   ]
  },
  {
   "cell_type": "code",
   "execution_count": 11,
   "metadata": {},
   "outputs": [],
   "source": [
    "nb_path = 'id_repl_5pct_auc_roc_NB_2019-06-06 08:21:05.661565.joblib'\n",
    "lr_path = 'id_repl_5pct_auc_roc_LR_2019-06-06 08:18:54.992504.joblib'\n",
    "rf_path = 'id_repl_5pct_auc_roc_RF_2019-06-06 09:03:23.762488.joblib'"
   ]
  },
  {
   "cell_type": "code",
   "execution_count": 12,
   "metadata": {},
   "outputs": [
    {
     "name": "stdout",
     "output_type": "stream",
     "text": [
      "models_store/id_repl_5pct_auc_roc_RF_2019-06-06 09:03:23.762488.joblib\n"
     ]
    }
   ],
   "source": [
    "rf = Pipeline('load', grid_model_id_key=None, \n",
    "              X_train=None, y_train=None,\n",
    "              clf_grid=None, model_obj_pref=None, \n",
    "              scoring=None, threshold=None, \n",
    "              model_obj_path=rf_path)"
   ]
  },
  {
   "cell_type": "code",
   "execution_count": 13,
   "metadata": {},
   "outputs": [],
   "source": [
    "rf_words = rf.word_importances(X_train)"
   ]
  },
  {
   "cell_type": "code",
   "execution_count": 14,
   "metadata": {},
   "outputs": [
    {
     "data": {
      "text/plain": [
       "array(['silli', 'the', 'useless', 'ignor', 'garbag', 'liar', 'disgust',\n",
       "       'an idiot', 'hypocrit', 'ridicul', 'crap', 'people', 'damn', 'ass',\n",
       "       'dumb', 'fool', 'loser', 'moron', 'idiot', 'stupid'], dtype=object)"
      ]
     },
     "execution_count": 14,
     "metadata": {},
     "output_type": "execute_result"
    }
   ],
   "source": [
    "rf_words[-20:]"
   ]
  },
  {
   "cell_type": "code",
   "execution_count": 15,
   "metadata": {},
   "outputs": [
    {
     "name": "stdout",
     "output_type": "stream",
     "text": [
      "LOADING IN DATA WITH ID COLUMNS FOR EVALUATION\n",
      "LOADING FEATURE STAGING DATA\n",
      "SPLITTING INTO X, y\n"
     ]
    }
   ],
   "source": [
    "print('LOADING IN DATA WITH ID COLUMNS FOR EVALUATION')\n",
    "df = dp.load_data(TRAIN, IDENTITY_COLUMNS + ['target'], sample_pct, 1234)\n",
    "df = dp.binarize_label(df, 0.5)\n",
    "print('SPLITTING INTO X, y')\n",
    "X, y = dp.split_X_y(df)\n",
    "_, X_eval, _, y_eval = dp.train_test_split(X, y, test_size=.2, train_size=.8, random_state=1234, stratify=None)\n",
    "X_eval = X_eval.apply(lambda x: x>0.5)"
   ]
  },
  {
   "cell_type": "code",
   "execution_count": 16,
   "metadata": {},
   "outputs": [
    {
     "name": "stderr",
     "output_type": "stream",
     "text": [
      "/Library/Frameworks/Python.framework/Versions/3.6/lib/python3.6/site-packages/sklearn/metrics/classification.py:1143: UndefinedMetricWarning: Precision is ill-defined and being set to 0.0 due to no predicted samples.\n",
      "  'precision', 'predicted', average, warn_for)\n",
      "/Library/Frameworks/Python.framework/Versions/3.6/lib/python3.6/site-packages/sklearn/metrics/classification.py:1143: UndefinedMetricWarning: F-score is ill-defined and being set to 0.0 due to no predicted samples.\n",
      "  'precision', 'predicted', average, warn_for)\n",
      "/Library/Frameworks/Python.framework/Versions/3.6/lib/python3.6/site-packages/sklearn/metrics/classification.py:1143: UndefinedMetricWarning: Precision is ill-defined and being set to 0.0 due to no predicted samples.\n",
      "  'precision', 'predicted', average, warn_for)\n",
      "/Library/Frameworks/Python.framework/Versions/3.6/lib/python3.6/site-packages/sklearn/metrics/classification.py:1143: UndefinedMetricWarning: F-score is ill-defined and being set to 0.0 due to no predicted samples.\n",
      "  'precision', 'predicted', average, warn_for)\n"
     ]
    }
   ],
   "source": [
    "scores = rf.evaluate_bias(X_test, X_eval, y_eval, 0.5)"
   ]
  },
  {
   "cell_type": "code",
   "execution_count": 17,
   "metadata": {
    "scrolled": true
   },
   "outputs": [
    {
     "data": {
      "text/html": [
       "<div>\n",
       "<style scoped>\n",
       "    .dataframe tbody tr th:only-of-type {\n",
       "        vertical-align: middle;\n",
       "    }\n",
       "\n",
       "    .dataframe tbody tr th {\n",
       "        vertical-align: top;\n",
       "    }\n",
       "\n",
       "    .dataframe thead th {\n",
       "        text-align: right;\n",
       "    }\n",
       "</style>\n",
       "<table border=\"1\" class=\"dataframe\">\n",
       "  <thead>\n",
       "    <tr style=\"text-align: right;\">\n",
       "      <th></th>\n",
       "      <th>identity</th>\n",
       "      <th>precision_at_k</th>\n",
       "      <th>recall_at_k</th>\n",
       "      <th>accuracy_at_k</th>\n",
       "      <th>f1_at_k</th>\n",
       "      <th>auc_roc</th>\n",
       "    </tr>\n",
       "  </thead>\n",
       "  <tbody>\n",
       "    <tr>\n",
       "      <th>0</th>\n",
       "      <td>overall</td>\n",
       "      <td>0.914286</td>\n",
       "      <td>0.095427</td>\n",
       "      <td>0.949083</td>\n",
       "      <td>0.172817</td>\n",
       "      <td>0.821069</td>\n",
       "    </tr>\n",
       "    <tr>\n",
       "      <th>1</th>\n",
       "      <td>male</td>\n",
       "      <td>1.000000</td>\n",
       "      <td>0.088889</td>\n",
       "      <td>0.896465</td>\n",
       "      <td>0.163265</td>\n",
       "      <td>0.783602</td>\n",
       "    </tr>\n",
       "    <tr>\n",
       "      <th>2</th>\n",
       "      <td>female</td>\n",
       "      <td>0.000000</td>\n",
       "      <td>0.000000</td>\n",
       "      <td>0.892562</td>\n",
       "      <td>0.000000</td>\n",
       "      <td>0.738441</td>\n",
       "    </tr>\n",
       "    <tr>\n",
       "      <th>3</th>\n",
       "      <td>homosexual_gay_or_lesbian</td>\n",
       "      <td>1.000000</td>\n",
       "      <td>0.037037</td>\n",
       "      <td>0.752381</td>\n",
       "      <td>0.071429</td>\n",
       "      <td>0.762346</td>\n",
       "    </tr>\n",
       "    <tr>\n",
       "      <th>4</th>\n",
       "      <td>christian</td>\n",
       "      <td>0.000000</td>\n",
       "      <td>0.000000</td>\n",
       "      <td>0.919481</td>\n",
       "      <td>0.000000</td>\n",
       "      <td>0.748685</td>\n",
       "    </tr>\n",
       "    <tr>\n",
       "      <th>5</th>\n",
       "      <td>jewish</td>\n",
       "      <td>0.000000</td>\n",
       "      <td>0.000000</td>\n",
       "      <td>0.928571</td>\n",
       "      <td>0.000000</td>\n",
       "      <td>0.870769</td>\n",
       "    </tr>\n",
       "    <tr>\n",
       "      <th>6</th>\n",
       "      <td>muslim</td>\n",
       "      <td>0.000000</td>\n",
       "      <td>0.000000</td>\n",
       "      <td>0.841410</td>\n",
       "      <td>0.000000</td>\n",
       "      <td>0.694372</td>\n",
       "    </tr>\n",
       "    <tr>\n",
       "      <th>7</th>\n",
       "      <td>black</td>\n",
       "      <td>1.000000</td>\n",
       "      <td>0.048780</td>\n",
       "      <td>0.751592</td>\n",
       "      <td>0.093023</td>\n",
       "      <td>0.609651</td>\n",
       "    </tr>\n",
       "    <tr>\n",
       "      <th>8</th>\n",
       "      <td>white</td>\n",
       "      <td>1.000000</td>\n",
       "      <td>0.041667</td>\n",
       "      <td>0.826415</td>\n",
       "      <td>0.080000</td>\n",
       "      <td>0.699885</td>\n",
       "    </tr>\n",
       "    <tr>\n",
       "      <th>9</th>\n",
       "      <td>psychiatric_or_mental_illness</td>\n",
       "      <td>1.000000</td>\n",
       "      <td>0.250000</td>\n",
       "      <td>0.931818</td>\n",
       "      <td>0.400000</td>\n",
       "      <td>0.762500</td>\n",
       "    </tr>\n",
       "  </tbody>\n",
       "</table>\n",
       "</div>"
      ],
      "text/plain": [
       "                        identity  precision_at_k  recall_at_k  accuracy_at_k  \\\n",
       "0                        overall        0.914286     0.095427       0.949083   \n",
       "1                           male        1.000000     0.088889       0.896465   \n",
       "2                         female        0.000000     0.000000       0.892562   \n",
       "3      homosexual_gay_or_lesbian        1.000000     0.037037       0.752381   \n",
       "4                      christian        0.000000     0.000000       0.919481   \n",
       "5                         jewish        0.000000     0.000000       0.928571   \n",
       "6                         muslim        0.000000     0.000000       0.841410   \n",
       "7                          black        1.000000     0.048780       0.751592   \n",
       "8                          white        1.000000     0.041667       0.826415   \n",
       "9  psychiatric_or_mental_illness        1.000000     0.250000       0.931818   \n",
       "\n",
       "    f1_at_k   auc_roc  \n",
       "0  0.172817  0.821069  \n",
       "1  0.163265  0.783602  \n",
       "2  0.000000  0.738441  \n",
       "3  0.071429  0.762346  \n",
       "4  0.000000  0.748685  \n",
       "5  0.000000  0.870769  \n",
       "6  0.000000  0.694372  \n",
       "7  0.093023  0.609651  \n",
       "8  0.080000  0.699885  \n",
       "9  0.400000  0.762500  "
      ]
     },
     "execution_count": 17,
     "metadata": {},
     "output_type": "execute_result"
    }
   ],
   "source": [
    "scores"
   ]
  },
  {
   "cell_type": "code",
   "execution_count": 30,
   "metadata": {},
   "outputs": [
    {
     "data": {
      "text/html": [
       "<div>\n",
       "<style scoped>\n",
       "    .dataframe tbody tr th:only-of-type {\n",
       "        vertical-align: middle;\n",
       "    }\n",
       "\n",
       "    .dataframe tbody tr th {\n",
       "        vertical-align: top;\n",
       "    }\n",
       "\n",
       "    .dataframe thead th {\n",
       "        text-align: right;\n",
       "    }\n",
       "</style>\n",
       "<table border=\"1\" class=\"dataframe\">\n",
       "  <thead>\n",
       "    <tr style=\"text-align: right;\">\n",
       "      <th></th>\n",
       "      <th>pred_neg</th>\n",
       "      <th>pred_pos</th>\n",
       "    </tr>\n",
       "  </thead>\n",
       "  <tbody>\n",
       "    <tr>\n",
       "      <th>0</th>\n",
       "      <td>17034</td>\n",
       "      <td>9</td>\n",
       "    </tr>\n",
       "    <tr>\n",
       "      <th>1</th>\n",
       "      <td>910</td>\n",
       "      <td>96</td>\n",
       "    </tr>\n",
       "  </tbody>\n",
       "</table>\n",
       "</div>"
      ],
      "text/plain": [
       "   pred_neg  pred_pos\n",
       "0     17034         9\n",
       "1       910        96"
      ]
     },
     "execution_count": 30,
     "metadata": {},
     "output_type": "execute_result"
    }
   ],
   "source": [
    "rf.confusion_matrix(y_test, rf.gen_pred_probs(X_test), .5)"
   ]
  },
  {
   "cell_type": "code",
   "execution_count": 33,
   "metadata": {},
   "outputs": [
    {
     "data": {
      "image/png": "[encoded data removed]",
      "text/plain": [
       "<Figure size 432x576 with 1 Axes>"
      ]
     },
     "metadata": {
      "needs_background": "light"
     },
     "output_type": "display_data"
    }
   ],
   "source": [
    "rf.plot_bias(scores, 'auc_roc')"
   ]
  },
  {
   "cell_type": "code",
   "execution_count": 19,
   "metadata": {},
   "outputs": [
    {
     "name": "stdout",
     "output_type": "stream",
     "text": [
      "models_store/id_repl_5pct_auc_roc_LR_2019-06-06 08:18:54.992504.joblib\n"
     ]
    }
   ],
   "source": [
    "lr = Pipeline('load', grid_model_id_key=None, \n",
    "              X_train=None, y_train=None,\n",
    "              clf_grid=None, model_obj_pref=None, \n",
    "              scoring=None, threshold=None, \n",
    "              model_obj_path=lr_path)"
   ]
  },
  {
   "cell_type": "code",
   "execution_count": 22,
   "metadata": {},
   "outputs": [
    {
     "data": {
      "text/plain": [
       "array(['jerk', 'of the word', 'assum that', 'suck', 'ignor', 'silli',\n",
       "       'loser', 'ass', 'foolish', 'garbag', 'damn', 'fool', 'ridicul',\n",
       "       'moron', 'crap', 'dumb', 'hypocrit', 'pathet', 'stupid', 'idiot'],\n",
       "      dtype=object)"
      ]
     },
     "execution_count": 22,
     "metadata": {},
     "output_type": "execute_result"
    }
   ],
   "source": [
    "lr_words = lr.word_importances(X_train)\n",
    "lr_words[-20:]"
   ]
  },
  {
   "cell_type": "code",
   "execution_count": 23,
   "metadata": {},
   "outputs": [
    {
     "data": {
      "text/html": [
       "<div>\n",
       "<style scoped>\n",
       "    .dataframe tbody tr th:only-of-type {\n",
       "        vertical-align: middle;\n",
       "    }\n",
       "\n",
       "    .dataframe tbody tr th {\n",
       "        vertical-align: top;\n",
       "    }\n",
       "\n",
       "    .dataframe thead th {\n",
       "        text-align: right;\n",
       "    }\n",
       "</style>\n",
       "<table border=\"1\" class=\"dataframe\">\n",
       "  <thead>\n",
       "    <tr style=\"text-align: right;\">\n",
       "      <th></th>\n",
       "      <th>pred_neg</th>\n",
       "      <th>pred_pos</th>\n",
       "    </tr>\n",
       "  </thead>\n",
       "  <tbody>\n",
       "    <tr>\n",
       "      <th>0</th>\n",
       "      <td>16712</td>\n",
       "      <td>331</td>\n",
       "    </tr>\n",
       "    <tr>\n",
       "      <th>1</th>\n",
       "      <td>584</td>\n",
       "      <td>422</td>\n",
       "    </tr>\n",
       "  </tbody>\n",
       "</table>\n",
       "</div>"
      ],
      "text/plain": [
       "   pred_neg  pred_pos\n",
       "0     16712       331\n",
       "1       584       422"
      ]
     },
     "execution_count": 23,
     "metadata": {},
     "output_type": "execute_result"
    }
   ],
   "source": [
    "lr.confusion_matrix(y_test, lr.gen_pred_probs(X_test), .5)"
   ]
  },
  {
   "cell_type": "code",
   "execution_count": 24,
   "metadata": {},
   "outputs": [
    {
     "data": {
      "text/html": [
       "<div>\n",
       "<style scoped>\n",
       "    .dataframe tbody tr th:only-of-type {\n",
       "        vertical-align: middle;\n",
       "    }\n",
       "\n",
       "    .dataframe tbody tr th {\n",
       "        vertical-align: top;\n",
       "    }\n",
       "\n",
       "    .dataframe thead th {\n",
       "        text-align: right;\n",
       "    }\n",
       "</style>\n",
       "<table border=\"1\" class=\"dataframe\">\n",
       "  <thead>\n",
       "    <tr style=\"text-align: right;\">\n",
       "      <th></th>\n",
       "      <th>identity</th>\n",
       "      <th>precision_at_k</th>\n",
       "      <th>recall_at_k</th>\n",
       "      <th>accuracy_at_k</th>\n",
       "      <th>f1_at_k</th>\n",
       "      <th>auc_roc</th>\n",
       "    </tr>\n",
       "  </thead>\n",
       "  <tbody>\n",
       "    <tr>\n",
       "      <th>0</th>\n",
       "      <td>overall</td>\n",
       "      <td>0.560425</td>\n",
       "      <td>0.419483</td>\n",
       "      <td>0.949305</td>\n",
       "      <td>0.479818</td>\n",
       "      <td>0.860441</td>\n",
       "    </tr>\n",
       "    <tr>\n",
       "      <th>1</th>\n",
       "      <td>male</td>\n",
       "      <td>0.440000</td>\n",
       "      <td>0.488889</td>\n",
       "      <td>0.871212</td>\n",
       "      <td>0.463158</td>\n",
       "      <td>0.800443</td>\n",
       "    </tr>\n",
       "    <tr>\n",
       "      <th>2</th>\n",
       "      <td>female</td>\n",
       "      <td>0.525000</td>\n",
       "      <td>0.411765</td>\n",
       "      <td>0.898760</td>\n",
       "      <td>0.461538</td>\n",
       "      <td>0.800752</td>\n",
       "    </tr>\n",
       "    <tr>\n",
       "      <th>3</th>\n",
       "      <td>homosexual_gay_or_lesbian</td>\n",
       "      <td>0.588235</td>\n",
       "      <td>0.370370</td>\n",
       "      <td>0.771429</td>\n",
       "      <td>0.454545</td>\n",
       "      <td>0.786325</td>\n",
       "    </tr>\n",
       "    <tr>\n",
       "      <th>4</th>\n",
       "      <td>christian</td>\n",
       "      <td>0.400000</td>\n",
       "      <td>0.333333</td>\n",
       "      <td>0.909091</td>\n",
       "      <td>0.363636</td>\n",
       "      <td>0.793897</td>\n",
       "    </tr>\n",
       "    <tr>\n",
       "      <th>5</th>\n",
       "      <td>jewish</td>\n",
       "      <td>0.166667</td>\n",
       "      <td>0.200000</td>\n",
       "      <td>0.871429</td>\n",
       "      <td>0.181818</td>\n",
       "      <td>0.756923</td>\n",
       "    </tr>\n",
       "    <tr>\n",
       "      <th>6</th>\n",
       "      <td>muslim</td>\n",
       "      <td>0.379310</td>\n",
       "      <td>0.305556</td>\n",
       "      <td>0.810573</td>\n",
       "      <td>0.338462</td>\n",
       "      <td>0.754654</td>\n",
       "    </tr>\n",
       "    <tr>\n",
       "      <th>7</th>\n",
       "      <td>black</td>\n",
       "      <td>0.478261</td>\n",
       "      <td>0.268293</td>\n",
       "      <td>0.732484</td>\n",
       "      <td>0.343750</td>\n",
       "      <td>0.628680</td>\n",
       "    </tr>\n",
       "    <tr>\n",
       "      <th>8</th>\n",
       "      <td>white</td>\n",
       "      <td>0.491525</td>\n",
       "      <td>0.604167</td>\n",
       "      <td>0.815094</td>\n",
       "      <td>0.542056</td>\n",
       "      <td>0.831701</td>\n",
       "    </tr>\n",
       "    <tr>\n",
       "      <th>9</th>\n",
       "      <td>psychiatric_or_mental_illness</td>\n",
       "      <td>0.750000</td>\n",
       "      <td>0.750000</td>\n",
       "      <td>0.954545</td>\n",
       "      <td>0.750000</td>\n",
       "      <td>0.868750</td>\n",
       "    </tr>\n",
       "  </tbody>\n",
       "</table>\n",
       "</div>"
      ],
      "text/plain": [
       "                        identity  precision_at_k  recall_at_k  accuracy_at_k  \\\n",
       "0                        overall        0.560425     0.419483       0.949305   \n",
       "1                           male        0.440000     0.488889       0.871212   \n",
       "2                         female        0.525000     0.411765       0.898760   \n",
       "3      homosexual_gay_or_lesbian        0.588235     0.370370       0.771429   \n",
       "4                      christian        0.400000     0.333333       0.909091   \n",
       "5                         jewish        0.166667     0.200000       0.871429   \n",
       "6                         muslim        0.379310     0.305556       0.810573   \n",
       "7                          black        0.478261     0.268293       0.732484   \n",
       "8                          white        0.491525     0.604167       0.815094   \n",
       "9  psychiatric_or_mental_illness        0.750000     0.750000       0.954545   \n",
       "\n",
       "    f1_at_k   auc_roc  \n",
       "0  0.479818  0.860441  \n",
       "1  0.463158  0.800443  \n",
       "2  0.461538  0.800752  \n",
       "3  0.454545  0.786325  \n",
       "4  0.363636  0.793897  \n",
       "5  0.181818  0.756923  \n",
       "6  0.338462  0.754654  \n",
       "7  0.343750  0.628680  \n",
       "8  0.542056  0.831701  \n",
       "9  0.750000  0.868750  "
      ]
     },
     "execution_count": 24,
     "metadata": {},
     "output_type": "execute_result"
    }
   ],
   "source": [
    "lr_scores = lr.evaluate_bias(X_test, X_eval, y_eval, 0.5)\n",
    "lr_scores"
   ]
  },
  {
   "cell_type": "code",
   "execution_count": 32,
   "metadata": {},
   "outputs": [
    {
     "data": {
      "image/png": "[encoded data removed]",
      "text/plain": [
       "<Figure size 432x576 with 1 Axes>"
      ]
     },
     "metadata": {
      "needs_background": "light"
     },
     "output_type": "display_data"
    }
   ],
   "source": [
    "lr.plot_bias(lr_scores, 'auc_roc')"
   ]
  },
  {
   "cell_type": "code",
   "execution_count": 26,
   "metadata": {},
   "outputs": [
    {
     "name": "stdout",
     "output_type": "stream",
     "text": [
      "models_store/id_repl_5pct_auc_roc_NB_2019-06-06 08:21:05.661565.joblib\n"
     ]
    }
   ],
   "source": [
    "nb = Pipeline('load', grid_model_id_key=None, \n",
    "              X_train=None, y_train=None,\n",
    "              clf_grid=None, model_obj_pref=None, \n",
    "              scoring=None, threshold=None, \n",
    "              model_obj_path=nb_path)"
   ]
  },
  {
   "cell_type": "code",
   "execution_count": 27,
   "metadata": {},
   "outputs": [
    {
     "name": "stderr",
     "output_type": "stream",
     "text": [
      "/Library/Frameworks/Python.framework/Versions/3.6/lib/python3.6/site-packages/sklearn/metrics/classification.py:1143: UndefinedMetricWarning: Precision is ill-defined and being set to 0.0 due to no predicted samples.\n",
      "  'precision', 'predicted', average, warn_for)\n",
      "/Library/Frameworks/Python.framework/Versions/3.6/lib/python3.6/site-packages/sklearn/metrics/classification.py:1143: UndefinedMetricWarning: F-score is ill-defined and being set to 0.0 due to no predicted samples.\n",
      "  'precision', 'predicted', average, warn_for)\n"
     ]
    },
    {
     "data": {
      "text/html": [
       "<div>\n",
       "<style scoped>\n",
       "    .dataframe tbody tr th:only-of-type {\n",
       "        vertical-align: middle;\n",
       "    }\n",
       "\n",
       "    .dataframe tbody tr th {\n",
       "        vertical-align: top;\n",
       "    }\n",
       "\n",
       "    .dataframe thead th {\n",
       "        text-align: right;\n",
       "    }\n",
       "</style>\n",
       "<table border=\"1\" class=\"dataframe\">\n",
       "  <thead>\n",
       "    <tr style=\"text-align: right;\">\n",
       "      <th></th>\n",
       "      <th>identity</th>\n",
       "      <th>precision_at_k</th>\n",
       "      <th>recall_at_k</th>\n",
       "      <th>accuracy_at_k</th>\n",
       "      <th>f1_at_k</th>\n",
       "      <th>auc_roc</th>\n",
       "    </tr>\n",
       "  </thead>\n",
       "  <tbody>\n",
       "    <tr>\n",
       "      <th>0</th>\n",
       "      <td>overall</td>\n",
       "      <td>0.897059</td>\n",
       "      <td>0.060636</td>\n",
       "      <td>0.947255</td>\n",
       "      <td>0.113594</td>\n",
       "      <td>0.815645</td>\n",
       "    </tr>\n",
       "    <tr>\n",
       "      <th>1</th>\n",
       "      <td>male</td>\n",
       "      <td>0.857143</td>\n",
       "      <td>0.133333</td>\n",
       "      <td>0.898990</td>\n",
       "      <td>0.230769</td>\n",
       "      <td>0.804938</td>\n",
       "    </tr>\n",
       "    <tr>\n",
       "      <th>2</th>\n",
       "      <td>female</td>\n",
       "      <td>1.000000</td>\n",
       "      <td>0.078431</td>\n",
       "      <td>0.902893</td>\n",
       "      <td>0.145455</td>\n",
       "      <td>0.797537</td>\n",
       "    </tr>\n",
       "    <tr>\n",
       "      <th>3</th>\n",
       "      <td>homosexual_gay_or_lesbian</td>\n",
       "      <td>0.000000</td>\n",
       "      <td>0.000000</td>\n",
       "      <td>0.733333</td>\n",
       "      <td>0.000000</td>\n",
       "      <td>0.773029</td>\n",
       "    </tr>\n",
       "    <tr>\n",
       "      <th>4</th>\n",
       "      <td>christian</td>\n",
       "      <td>0.666667</td>\n",
       "      <td>0.066667</td>\n",
       "      <td>0.924675</td>\n",
       "      <td>0.121212</td>\n",
       "      <td>0.836056</td>\n",
       "    </tr>\n",
       "    <tr>\n",
       "      <th>5</th>\n",
       "      <td>jewish</td>\n",
       "      <td>0.000000</td>\n",
       "      <td>0.000000</td>\n",
       "      <td>0.914286</td>\n",
       "      <td>0.000000</td>\n",
       "      <td>0.627692</td>\n",
       "    </tr>\n",
       "    <tr>\n",
       "      <th>6</th>\n",
       "      <td>muslim</td>\n",
       "      <td>0.666667</td>\n",
       "      <td>0.055556</td>\n",
       "      <td>0.845815</td>\n",
       "      <td>0.102564</td>\n",
       "      <td>0.720622</td>\n",
       "    </tr>\n",
       "    <tr>\n",
       "      <th>7</th>\n",
       "      <td>black</td>\n",
       "      <td>0.800000</td>\n",
       "      <td>0.097561</td>\n",
       "      <td>0.757962</td>\n",
       "      <td>0.173913</td>\n",
       "      <td>0.698907</td>\n",
       "    </tr>\n",
       "    <tr>\n",
       "      <th>8</th>\n",
       "      <td>white</td>\n",
       "      <td>0.777778</td>\n",
       "      <td>0.145833</td>\n",
       "      <td>0.837736</td>\n",
       "      <td>0.245614</td>\n",
       "      <td>0.762769</td>\n",
       "    </tr>\n",
       "    <tr>\n",
       "      <th>9</th>\n",
       "      <td>psychiatric_or_mental_illness</td>\n",
       "      <td>0.000000</td>\n",
       "      <td>0.000000</td>\n",
       "      <td>0.909091</td>\n",
       "      <td>0.000000</td>\n",
       "      <td>0.900000</td>\n",
       "    </tr>\n",
       "  </tbody>\n",
       "</table>\n",
       "</div>"
      ],
      "text/plain": [
       "                        identity  precision_at_k  recall_at_k  accuracy_at_k  \\\n",
       "0                        overall        0.897059     0.060636       0.947255   \n",
       "1                           male        0.857143     0.133333       0.898990   \n",
       "2                         female        1.000000     0.078431       0.902893   \n",
       "3      homosexual_gay_or_lesbian        0.000000     0.000000       0.733333   \n",
       "4                      christian        0.666667     0.066667       0.924675   \n",
       "5                         jewish        0.000000     0.000000       0.914286   \n",
       "6                         muslim        0.666667     0.055556       0.845815   \n",
       "7                          black        0.800000     0.097561       0.757962   \n",
       "8                          white        0.777778     0.145833       0.837736   \n",
       "9  psychiatric_or_mental_illness        0.000000     0.000000       0.909091   \n",
       "\n",
       "    f1_at_k   auc_roc  \n",
       "0  0.113594  0.815645  \n",
       "1  0.230769  0.804938  \n",
       "2  0.145455  0.797537  \n",
       "3  0.000000  0.773029  \n",
       "4  0.121212  0.836056  \n",
       "5  0.000000  0.627692  \n",
       "6  0.102564  0.720622  \n",
       "7  0.173913  0.698907  \n",
       "8  0.245614  0.762769  \n",
       "9  0.000000  0.900000  "
      ]
     },
     "execution_count": 27,
     "metadata": {},
     "output_type": "execute_result"
    }
   ],
   "source": [
    "nb_scores = nb.evaluate_bias(X_test, X_eval, y_eval, 0.4)\n",
    "nb_scores"
   ]
  },
  {
   "cell_type": "code",
   "execution_count": 31,
   "metadata": {},
   "outputs": [
    {
     "data": {
      "image/png": "[encoded data removed]",
      "text/plain": [
       "<Figure size 432x576 with 1 Axes>"
      ]
     },
     "metadata": {
      "needs_background": "light"
     },
     "output_type": "display_data"
    }
   ],
   "source": [
    "nb.plot_bias(nb_scores, 'auc_roc')"
   ]
  },
  {
   "cell_type": "code",
   "execution_count": 29,
   "metadata": {},
   "outputs": [
    {
     "data": {
      "text/html": [
       "<div>\n",
       "<style scoped>\n",
       "    .dataframe tbody tr th:only-of-type {\n",
       "        vertical-align: middle;\n",
       "    }\n",
       "\n",
       "    .dataframe tbody tr th {\n",
       "        vertical-align: top;\n",
       "    }\n",
       "\n",
       "    .dataframe thead th {\n",
       "        text-align: right;\n",
       "    }\n",
       "</style>\n",
       "<table border=\"1\" class=\"dataframe\">\n",
       "  <thead>\n",
       "    <tr style=\"text-align: right;\">\n",
       "      <th></th>\n",
       "      <th>pred_neg</th>\n",
       "      <th>pred_pos</th>\n",
       "    </tr>\n",
       "  </thead>\n",
       "  <tbody>\n",
       "    <tr>\n",
       "      <th>0</th>\n",
       "      <td>17041</td>\n",
       "      <td>2</td>\n",
       "    </tr>\n",
       "    <tr>\n",
       "      <th>1</th>\n",
       "      <td>976</td>\n",
       "      <td>30</td>\n",
       "    </tr>\n",
       "  </tbody>\n",
       "</table>\n",
       "</div>"
      ],
      "text/plain": [
       "   pred_neg  pred_pos\n",
       "0     17041         2\n",
       "1       976        30"
      ]
     },
     "execution_count": 29,
     "metadata": {},
     "output_type": "execute_result"
    }
   ],
   "source": [
    "nb.confusion_matrix(y_test, nb.gen_pred_probs(X_test), .5)"
   ]
  },
  {
   "cell_type": "code",
   "execution_count": null,
   "metadata": {},
   "outputs": [],
   "source": []
  }
 ],
 "metadata": {
  "kernelspec": {
   "display_name": "Python 3",
   "language": "python",
   "name": "python3"
  },
  "language_info": {
   "codemirror_mode": {
    "name": "ipython",
    "version": 3
   },
   "file_extension": ".py",
   "mimetype": "text/x-python",
   "name": "python",
   "nbconvert_exporter": "python",
   "pygments_lexer": "ipython3",
   "version": "3.6.7"
  }
 },
 "nbformat": 4,
 "nbformat_minor": 2
}
