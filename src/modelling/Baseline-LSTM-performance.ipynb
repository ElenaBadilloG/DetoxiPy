{
 "cells": [
  {
   "cell_type": "code",
   "execution_count": 33,
   "metadata": {},
   "outputs": [],
   "source": [
    "import numpy as np\n",
    "import pandas as pd\n",
    "import os\n",
    "import time\n",
    "import gc\n",
    "import random\n",
    "from tqdm._tqdm_notebook import tqdm_notebook as tqdm\n",
    "from keras.preprocessing import text, sequence\n",
    "import torch\n",
    "from torch import nn\n",
    "from torch.utils import data\n",
    "from torch.nn import functional as F\n",
    "import sys"
   ]
  },
  {
   "cell_type": "markdown",
   "metadata": {},
   "source": [
    "# A Simple RNN Pipeline for Comment Toxicity Classification\n",
    "> June 2, 2019\n",
    "\n",
    "> ref: https://www.kaggle.com/bminixhofer/simple-lstm-pytorch-version"
   ]
  },
  {
   "cell_type": "code",
   "execution_count": 2,
   "metadata": {},
   "outputs": [],
   "source": [
    "def seed_everything(seed=1234): # for reproducibility\n",
    "    random.seed(seed)\n",
    "    os.environ['PYTHONHASHSEED'] = str(seed)\n",
    "    np.random.seed(seed)\n",
    "    torch.manual_seed(seed)\n",
    "    torch.cuda.manual_seed(seed)\n",
    "    torch.backends.cudnn.deterministic = True\n",
    "seed_everything()"
   ]
  },
  {
   "cell_type": "code",
   "execution_count": 3,
   "metadata": {},
   "outputs": [],
   "source": [
    "# Global params\n",
    "GLOVE_EMBEDDING_PATH = '/Users/elenabg/Documents/6Q/AML/Project/glove.840B.300d.txt'\n",
    "NUM_MODELS = 2\n",
    "LSTM_UNITS = 128\n",
    "DENSE_HIDDEN_UNITS = 4 * LSTM_UNITS\n",
    "MAX_LEN = 220\n",
    "max_features = None"
   ]
  },
  {
   "cell_type": "code",
   "execution_count": 4,
   "metadata": {},
   "outputs": [],
   "source": [
    "# Helper Funcs for word embeddings\n",
    "\n",
    "def get_coefs(word, *arr):\n",
    "    return word, np.asarray(arr, dtype='float32')\n",
    "\n",
    "def load_embeddings(path):\n",
    "    with open(path) as f:\n",
    "        return dict(get_coefs(*line.strip().split(' ')) for line in tqdm(f))\n",
    "\n",
    "def build_matrix(word_index, path):\n",
    "    embedding_index = load_embeddings(path)\n",
    "    embedding_matrix = np.zeros((len(word_index) + 1, 300))\n",
    "    unknown_words = []\n",
    "    \n",
    "    for word, i in word_index.items():\n",
    "        try:\n",
    "            embedding_matrix[i] = embedding_index[word]\n",
    "        except KeyError:\n",
    "            unknown_words.append(word)\n",
    "    return embedding_matrix, unknown_words"
   ]
  },
  {
   "cell_type": "markdown",
   "metadata": {},
   "source": [
    "# Model Definition: LSTM"
   ]
  },
  {
   "cell_type": "code",
   "execution_count": 5,
   "metadata": {},
   "outputs": [],
   "source": [
    "class SpatialDropout(nn.Dropout2d):\n",
    "    def forward(self, x):\n",
    "        x = x.unsqueeze(2)    # (N, T, 1, K)\n",
    "        x = x.permute(0, 3, 2, 1)  # (N, K, 1, T)\n",
    "        x = super(SpatialDropout, self).forward(x)  # (N, K, 1, T), some features are masked\n",
    "        x = x.permute(0, 3, 2, 1)  # (N, T, 1, K)\n",
    "        x = x.squeeze(2)  # (N, T, K)\n",
    "        return x\n",
    "    \n",
    "class NeuralNet(nn.Module):\n",
    "    def __init__(self, embedding_matrix, num_aux_targets):\n",
    "        super(NeuralNet, self).__init__()\n",
    "        embed_size = embedding_matrix.shape[1]\n",
    "        \n",
    "        self.embedding = nn.Embedding(max_features, embed_size)\n",
    "        self.embedding.weight = nn.Parameter(torch.tensor(embedding_matrix, dtype=torch.float32))\n",
    "        self.embedding.weight.requires_grad = False\n",
    "        self.embedding_dropout = SpatialDropout(0.3)\n",
    "        \n",
    "        self.lstm1 = nn.LSTM(embed_size, LSTM_UNITS, bidirectional=True, batch_first=True)\n",
    "        self.lstm2 = nn.LSTM(LSTM_UNITS * 2, LSTM_UNITS, bidirectional=True, batch_first=True)\n",
    "    \n",
    "        self.linear1 = nn.Linear(DENSE_HIDDEN_UNITS, DENSE_HIDDEN_UNITS)\n",
    "        self.linear2 = nn.Linear(DENSE_HIDDEN_UNITS, DENSE_HIDDEN_UNITS)\n",
    "        \n",
    "        self.linear_out = nn.Linear(DENSE_HIDDEN_UNITS, 1)\n",
    "        self.linear_aux_out = nn.Linear(DENSE_HIDDEN_UNITS, num_aux_targets)\n",
    "        \n",
    "    def forward(self, x):\n",
    "        h_embedding = self.embedding(x)\n",
    "        h_embedding = self.embedding_dropout(h_embedding)\n",
    "        \n",
    "        h_lstm1, _ = self.lstm1(h_embedding)\n",
    "        h_lstm2, _ = self.lstm2(h_lstm1)\n",
    "        \n",
    "        # global average pooling\n",
    "        avg_pool = torch.mean(h_lstm2, 1)\n",
    "        # global max pooling\n",
    "        max_pool, _ = torch.max(h_lstm2, 1)\n",
    "        \n",
    "        h_conc = torch.cat((max_pool, avg_pool), 1)\n",
    "        h_conc_linear1  = F.relu(self.linear1(h_conc))\n",
    "        h_conc_linear2  = F.relu(self.linear2(h_conc))\n",
    "        \n",
    "        hidden = h_conc + h_conc_linear1 + h_conc_linear2\n",
    "        \n",
    "        result = self.linear_out(hidden)\n",
    "        aux_result = self.linear_aux_out(hidden)\n",
    "        out = torch.cat([result, aux_result], 1)\n",
    "        \n",
    "        return out"
   ]
  },
  {
   "cell_type": "markdown",
   "metadata": {},
   "source": [
    "# Model Definition: GRU"
   ]
  },
  {
   "cell_type": "code",
   "execution_count": 6,
   "metadata": {},
   "outputs": [],
   "source": [
    "class SpatialDropout(nn.Dropout2d):\n",
    "    def forward(self, x):\n",
    "        x = x.unsqueeze(2)    # (N, T, 1, K)\n",
    "        x = x.permute(0, 3, 2, 1)  # (N, K, 1, T)\n",
    "        x = super(SpatialDropout, self).forward(x)  # (N, K, 1, T), some features are masked\n",
    "        x = x.permute(0, 3, 2, 1)  # (N, T, 1, K)\n",
    "        x = x.squeeze(2)  # (N, T, K)\n",
    "        return x\n",
    "    \n",
    "class NeuralNetGRU(nn.Module):\n",
    "    def __init__(self, embedding_matrix, num_aux_targets):\n",
    "        super(NeuralNetGRU, self).__init__()\n",
    "        embed_size = embedding_matrix.shape[1]\n",
    "        \n",
    "        self.embedding = nn.Embedding(max_features, embed_size)\n",
    "        self.embedding.weight = nn.Parameter(torch.tensor(embedding_matrix, dtype=torch.float32))\n",
    "        self.embedding.weight.requires_grad = False\n",
    "        self.embedding_dropout = SpatialDropout(0.3)\n",
    "        \n",
    "        self.gru = nn.GRU(embed_size, LSTM_UNITS)\n",
    "        self.linear1 = nn.Linear(DENSE_HIDDEN_UNITS, DENSE_HIDDEN_UNITS)\n",
    "        self.linear2 = nn.Linear(DENSE_HIDDEN_UNITS, DENSE_HIDDEN_UNITS)\n",
    "        \n",
    "        self.linear_out = nn.Linear(DENSE_HIDDEN_UNITS, 1)\n",
    "        self.linear_aux_out = nn.Linear(DENSE_HIDDEN_UNITS, num_aux_targets)\n",
    "        \n",
    "    def forward(self, x):\n",
    "        h_embedding = self.embedding(x)\n",
    "        h_embedding = self.embedding_dropout(h_embedding)\n",
    "        \n",
    "        h_gru, _ = self.gru(h_embedding)\n",
    "        \n",
    "        # global average pooling\n",
    "        avg_pool = torch.mean(h_gru, 1)\n",
    "        # global max pooling\n",
    "        max_pool, _ = torch.max(h_gru, 1)\n",
    "        \n",
    "        h_conc = torch.cat((max_pool, avg_pool), 1)\n",
    "        h_conc_linear1  = F.relu(self.linear1(h_conc))\n",
    "        h_conc_linear2  = F.relu(self.linear2(h_conc))\n",
    "        \n",
    "        hidden = h_conc + h_conc_linear1 + h_conc_linear2\n",
    "        \n",
    "        result = self.linear_out(hidden)\n",
    "        aux_result = self.linear_aux_out(hidden)\n",
    "        out = torch.cat([result, aux_result], 1)\n",
    "        \n",
    "        return out"
   ]
  },
  {
   "cell_type": "markdown",
   "metadata": {},
   "source": [
    "# Train Model"
   ]
  },
  {
   "cell_type": "code",
   "execution_count": 7,
   "metadata": {},
   "outputs": [],
   "source": [
    "def sigmoid(x):\n",
    "    return 1 / (1 + np.exp(-x))\n",
    "\n",
    "def train_model(model, train, test, loss_fn, output_dim, lr=0.001,\n",
    "                batch_size=512, n_epochs=4,\n",
    "                enable_checkpoint_ensemble=True):\n",
    "    param_lrs = [{'params': param, 'lr': lr} for param in model.parameters()]\n",
    "    optimizer = torch.optim.Adam(param_lrs, lr=lr)\n",
    "\n",
    "    scheduler = torch.optim.lr_scheduler.LambdaLR(optimizer, lambda epoch: 0.6 ** epoch)\n",
    "    \n",
    "    train_loader = torch.utils.data.DataLoader(train, batch_size=batch_size, shuffle=True)\n",
    "    test_loader = torch.utils.data.DataLoader(test, batch_size=batch_size, shuffle=False)\n",
    "    all_test_preds = []\n",
    "    checkpoint_weights = [2 ** epoch for epoch in range(n_epochs)]\n",
    "    \n",
    "    for epoch in range(n_epochs):\n",
    "        start_time = time.time()\n",
    "        \n",
    "        scheduler.step()\n",
    "        \n",
    "        model.train()\n",
    "        avg_loss = 0.\n",
    "        \n",
    "        for data in tqdm(train_loader, disable=False):\n",
    "            x_batch = data[:-1]\n",
    "            y_batch = data[-1]\n",
    "\n",
    "            y_pred = model(*x_batch)            \n",
    "            loss = loss_fn(y_pred, y_batch)\n",
    "\n",
    "            optimizer.zero_grad()\n",
    "            loss.backward()\n",
    "            \n",
    "            \n",
    "            optimizer.step()\n",
    "            avg_loss += loss.item() / len(train_loader)\n",
    "            \n",
    "        model.eval()\n",
    "        test_preds = np.zeros((len(test), output_dim))\n",
    "    \n",
    "        for i, x_batch in enumerate(test_loader):\n",
    "            y_pred = sigmoid(model(*x_batch).detach().cpu().numpy())\n",
    "\n",
    "            test_preds[i * batch_size:(i+1) * batch_size, :] = y_pred\n",
    "\n",
    "        all_test_preds.append(test_preds)\n",
    "        elapsed_time = time.time() - start_time\n",
    "        print('Epoch {}/{} \\t loss={:.4f} \\t time={:.2f}s'.format(\n",
    "              epoch + 1, n_epochs, avg_loss, elapsed_time))\n",
    "\n",
    "    if enable_checkpoint_ensemble:\n",
    "        test_preds = np.average(all_test_preds, weights=checkpoint_weights, axis=0)    \n",
    "    else:\n",
    "        test_preds = all_test_preds[-1]\n",
    "        \n",
    "    return test_preds"
   ]
  },
  {
   "cell_type": "markdown",
   "metadata": {},
   "source": [
    "# Text Preprocessing Pipeline"
   ]
  },
  {
   "cell_type": "code",
   "execution_count": 8,
   "metadata": {},
   "outputs": [],
   "source": [
    "sys.path.insert(0, '/Users/elenabg/')\n",
    "import text_cleaner as pre\n",
    "\n",
    "def preprocess(data):\n",
    "    '''\n",
    "    Cleans comment text by:\n",
    "    1) removing selected punctuation marks, \n",
    "    2) homogenezing contractions,\n",
    "    3) homogenezing selected proper names,\n",
    "    4) correcting selected misspellings\n",
    "    '''\n",
    "\n",
    "    data = data.astype(str).apply(lambda x: pre.clean_special_chars(x))\n",
    "    data = data.astype(str).apply(lambda x: pre.clean_contractions_and_spelling(x))\n",
    "    return data"
   ]
  },
  {
   "cell_type": "markdown",
   "metadata": {},
   "source": [
    "# Load and Subset Datasets"
   ]
  },
  {
   "cell_type": "code",
   "execution_count": 9,
   "metadata": {},
   "outputs": [],
   "source": [
    "FRAC = 0.02\n",
    "tokenizer = text.Tokenizer()\n",
    "max_features = None #327576\n",
    "TRAIN_PATH='/Users/elenabg/DetoxiPy/train.csv'\n",
    "TEST_PATH='/Users/elenabg/DetoxiPy/test.csv'\n",
    "\n",
    "def build_datasets(tokenizer, frac=FRAC, train_frac=0.7, train_path=TRAIN_PATH,\n",
    "                   test_path=TEST_PATH):\n",
    "    \n",
    "    df = pd.read_csv(train_path).sample(frac=frac)\n",
    "    \n",
    "    # divide into train and test\n",
    "    msk = np.random.rand(len(df)) < train_frac\n",
    "    train = df[msk]\n",
    "    test = df[~msk]\n",
    "    #test = pd.read_csv(test_path).sample(frac=frac)\n",
    "\n",
    "    x_train = preprocess(train['comment_text']) # our own pre-processing pipeline goes here\n",
    "    y_train = np.where(train['target'] >= 0.5, 1, 0)\n",
    "    y_aux_train = train[['target', 'severe_toxicity', 'obscene', 'identity_attack', 'insult', 'threat']]\n",
    "    x_test = preprocess(test['comment_text']) # same\n",
    "    tokenizer.fit_on_texts(list(x_train) + list(x_test))\n",
    "    x_train = tokenizer.texts_to_sequences(x_train)\n",
    "    x_test = tokenizer.texts_to_sequences(x_test)\n",
    "    x_train = sequence.pad_sequences(x_train, maxlen=MAX_LEN)\n",
    "    x_test = sequence.pad_sequences(x_test, maxlen=MAX_LEN)\n",
    "    return x_train, x_test, y_train, y_aux_train, tokenizer, train, test"
   ]
  },
  {
   "cell_type": "code",
   "execution_count": 10,
   "metadata": {},
   "outputs": [],
   "source": [
    "x_train, x_test, y_train, y_aux_train, tokenizer_trained, train, test = build_datasets(tokenizer, frac=FRAC,  \n",
    "                                               train_path=TRAIN_PATH, test_path=TEST_PATH)"
   ]
  },
  {
   "cell_type": "markdown",
   "metadata": {},
   "source": [
    "# Train Embedding"
   ]
  },
  {
   "cell_type": "code",
   "execution_count": 11,
   "metadata": {},
   "outputs": [],
   "source": [
    "max_features = max_features or len(tokenizer_trained.word_index) + 1 "
   ]
  },
  {
   "cell_type": "code",
   "execution_count": 12,
   "metadata": {},
   "outputs": [
    {
     "data": {
      "application/vnd.jupyter.widget-view+json": {
       "model_id": "2a3706ee9c2048698b7a3ac08364458a",
       "version_major": 2,
       "version_minor": 0
      },
      "text/plain": [
       "HBox(children=(IntProgress(value=1, bar_style='info', max=1), HTML(value='')))"
      ]
     },
     "metadata": {},
     "output_type": "display_data"
    },
    {
     "name": "stdout",
     "output_type": "stream",
     "text": [
      "\n",
      "\n",
      " unknown words (glove):  6569\n"
     ]
    }
   ],
   "source": [
    "glove_matrix, unknown_words_glove = build_matrix(tokenizer_trained.word_index, GLOVE_EMBEDDING_PATH)\n",
    "print('\\n unknown words (glove): ', len(unknown_words_glove))"
   ]
  },
  {
   "cell_type": "markdown",
   "metadata": {},
   "source": [
    "# Build Model"
   ]
  },
  {
   "cell_type": "code",
   "execution_count": 13,
   "metadata": {},
   "outputs": [],
   "source": [
    "def build_model(x_train, y_train, x_test, y_aux_train, NUM_MODELS, glove_matrix,\n",
    "                model_type='LSTM'):\n",
    "    \n",
    "    x_train_torch = torch.tensor(x_train, dtype=torch.long)\n",
    "    x_test_torch = torch.tensor(x_test, dtype=torch.long)\n",
    "    y_train_torch = torch.tensor(np.hstack([y_train[:, np.newaxis], y_aux_train]),\n",
    "                                 dtype=torch.float32)\n",
    "    train_dataset = data.TensorDataset(x_train_torch, y_train_torch)\n",
    "    test_dataset = data.TensorDataset(x_test_torch)\n",
    "\n",
    "    all_test_preds = []\n",
    "\n",
    "    for model_idx in range(NUM_MODELS):\n",
    "        print('Model ', model_idx)\n",
    "        seed_everything(1234 + model_idx)\n",
    "        if model_type=='LSTM':\n",
    "            model = NeuralNet(glove_matrix, y_aux_train.shape[-1]) \n",
    "        else:\n",
    "            model = NeuralNetGRU(glove_matrix, y_aux_train.shape[-1])\n",
    "        #model.cuda()\n",
    "\n",
    "        test_preds = train_model(model, train_dataset, test_dataset,\n",
    "                                 output_dim=y_train_torch.shape[-1], \n",
    "                                 loss_fn=nn.BCEWithLogitsLoss(reduction='mean'))\n",
    "        all_test_preds.append(test_preds)\n",
    "        print()\n",
    "    return all_test_preds"
   ]
  },
  {
   "cell_type": "markdown",
   "metadata": {},
   "source": [
    "# Test Model"
   ]
  },
  {
   "cell_type": "code",
   "execution_count": 14,
   "metadata": {},
   "outputs": [
    {
     "name": "stdout",
     "output_type": "stream",
     "text": [
      "Model  0\n"
     ]
    },
    {
     "data": {
      "application/vnd.jupyter.widget-view+json": {
       "model_id": "6c2c0172606a43c0b6ae75437ee829d5",
       "version_major": 2,
       "version_minor": 0
      },
      "text/plain": [
       "HBox(children=(IntProgress(value=0, max=50), HTML(value='')))"
      ]
     },
     "metadata": {},
     "output_type": "display_data"
    },
    {
     "name": "stdout",
     "output_type": "stream",
     "text": [
      "\n",
      "Epoch 1/4 \t loss=0.2083 \t time=608.98s\n"
     ]
    },
    {
     "data": {
      "application/vnd.jupyter.widget-view+json": {
       "model_id": "61df05f5578545f59816730809e187d7",
       "version_major": 2,
       "version_minor": 0
      },
      "text/plain": [
       "HBox(children=(IntProgress(value=0, max=50), HTML(value='')))"
      ]
     },
     "metadata": {},
     "output_type": "display_data"
    },
    {
     "name": "stdout",
     "output_type": "stream",
     "text": [
      "\n",
      "Epoch 2/4 \t loss=0.1450 \t time=611.80s\n"
     ]
    },
    {
     "data": {
      "application/vnd.jupyter.widget-view+json": {
       "model_id": "86fc166e1fba4c2e88431d72486777bf",
       "version_major": 2,
       "version_minor": 0
      },
      "text/plain": [
       "HBox(children=(IntProgress(value=0, max=50), HTML(value='')))"
      ]
     },
     "metadata": {},
     "output_type": "display_data"
    },
    {
     "name": "stdout",
     "output_type": "stream",
     "text": [
      "\n",
      "Epoch 3/4 \t loss=0.1278 \t time=614.84s\n"
     ]
    },
    {
     "data": {
      "application/vnd.jupyter.widget-view+json": {
       "model_id": "a03ee5736fd740ffa3beacaab2d458f1",
       "version_major": 2,
       "version_minor": 0
      },
      "text/plain": [
       "HBox(children=(IntProgress(value=0, max=50), HTML(value='')))"
      ]
     },
     "metadata": {},
     "output_type": "display_data"
    },
    {
     "name": "stdout",
     "output_type": "stream",
     "text": [
      "\n",
      "Epoch 4/4 \t loss=0.1241 \t time=613.90s\n",
      "\n",
      "Model  1\n"
     ]
    },
    {
     "data": {
      "application/vnd.jupyter.widget-view+json": {
       "model_id": "5d968bd3371b4162b057caa1360665e3",
       "version_major": 2,
       "version_minor": 0
      },
      "text/plain": [
       "HBox(children=(IntProgress(value=0, max=50), HTML(value='')))"
      ]
     },
     "metadata": {},
     "output_type": "display_data"
    },
    {
     "name": "stdout",
     "output_type": "stream",
     "text": [
      "\n",
      "Epoch 1/4 \t loss=0.2078 \t time=616.65s\n"
     ]
    },
    {
     "data": {
      "application/vnd.jupyter.widget-view+json": {
       "model_id": "4bff79d28bb142f2934e2cb5b67772d9",
       "version_major": 2,
       "version_minor": 0
      },
      "text/plain": [
       "HBox(children=(IntProgress(value=0, max=50), HTML(value='')))"
      ]
     },
     "metadata": {},
     "output_type": "display_data"
    },
    {
     "name": "stdout",
     "output_type": "stream",
     "text": [
      "\n",
      "Epoch 2/4 \t loss=0.1418 \t time=663.63s\n"
     ]
    },
    {
     "data": {
      "application/vnd.jupyter.widget-view+json": {
       "model_id": "2bae7739397b40b1a58a3c9ba851ff44",
       "version_major": 2,
       "version_minor": 0
      },
      "text/plain": [
       "HBox(children=(IntProgress(value=0, max=50), HTML(value='')))"
      ]
     },
     "metadata": {},
     "output_type": "display_data"
    },
    {
     "name": "stdout",
     "output_type": "stream",
     "text": [
      "\n",
      "Epoch 3/4 \t loss=0.1268 \t time=613.08s\n"
     ]
    },
    {
     "data": {
      "application/vnd.jupyter.widget-view+json": {
       "model_id": "d03492737acd4bbc9c3124bd5de5396c",
       "version_major": 2,
       "version_minor": 0
      },
      "text/plain": [
       "HBox(children=(IntProgress(value=0, max=50), HTML(value='')))"
      ]
     },
     "metadata": {},
     "output_type": "display_data"
    },
    {
     "name": "stdout",
     "output_type": "stream",
     "text": [
      "\n",
      "Epoch 4/4 \t loss=0.1236 \t time=640.43s\n",
      "\n",
      "CPU times: user 2h 22min 5s, sys: 13min 14s, total: 2h 35min 20s\n",
      "Wall time: 1h 23min 3s\n"
     ]
    }
   ],
   "source": [
    "# 0.02 rand sample dataset\n",
    "%time all_test_preds = build_model(x_train, y_train, x_test, y_aux_train, NUM_MODELS, glove_matrix)"
   ]
  },
  {
   "cell_type": "code",
   "execution_count": 15,
   "metadata": {},
   "outputs": [],
   "source": [
    "res = pd.DataFrame.from_dict({\n",
    "    'id': test['id'],\n",
    "    'prediction': np.mean(all_test_preds, axis=0)[:, 0]})"
   ]
  },
  {
   "cell_type": "code",
   "execution_count": 16,
   "metadata": {},
   "outputs": [],
   "source": [
    "tox = res[res['prediction']>=0.5]"
   ]
  },
  {
   "cell_type": "code",
   "execution_count": 17,
   "metadata": {},
   "outputs": [
    {
     "data": {
      "text/html": [
       "<div>\n",
       "<style scoped>\n",
       "    .dataframe tbody tr th:only-of-type {\n",
       "        vertical-align: middle;\n",
       "    }\n",
       "\n",
       "    .dataframe tbody tr th {\n",
       "        vertical-align: top;\n",
       "    }\n",
       "\n",
       "    .dataframe thead th {\n",
       "        text-align: right;\n",
       "    }\n",
       "</style>\n",
       "<table border=\"1\" class=\"dataframe\">\n",
       "  <thead>\n",
       "    <tr style=\"text-align: right;\">\n",
       "      <th></th>\n",
       "      <th>id</th>\n",
       "      <th>prediction</th>\n",
       "    </tr>\n",
       "  </thead>\n",
       "  <tbody>\n",
       "    <tr>\n",
       "      <th>671894</th>\n",
       "      <td>1063508</td>\n",
       "      <td>0.524976</td>\n",
       "    </tr>\n",
       "    <tr>\n",
       "      <th>1028842</th>\n",
       "      <td>5375010</td>\n",
       "      <td>0.607761</td>\n",
       "    </tr>\n",
       "    <tr>\n",
       "      <th>763519</th>\n",
       "      <td>5054605</td>\n",
       "      <td>0.540545</td>\n",
       "    </tr>\n",
       "    <tr>\n",
       "      <th>1364638</th>\n",
       "      <td>5784421</td>\n",
       "      <td>0.719910</td>\n",
       "    </tr>\n",
       "    <tr>\n",
       "      <th>607171</th>\n",
       "      <td>985174</td>\n",
       "      <td>0.650491</td>\n",
       "    </tr>\n",
       "    <tr>\n",
       "      <th>903967</th>\n",
       "      <td>5225738</td>\n",
       "      <td>0.630510</td>\n",
       "    </tr>\n",
       "    <tr>\n",
       "      <th>236996</th>\n",
       "      <td>533194</td>\n",
       "      <td>0.560676</td>\n",
       "    </tr>\n",
       "    <tr>\n",
       "      <th>939528</th>\n",
       "      <td>5268193</td>\n",
       "      <td>0.531823</td>\n",
       "    </tr>\n",
       "    <tr>\n",
       "      <th>1650330</th>\n",
       "      <td>6144914</td>\n",
       "      <td>0.549486</td>\n",
       "    </tr>\n",
       "    <tr>\n",
       "      <th>834071</th>\n",
       "      <td>5141395</td>\n",
       "      <td>0.517363</td>\n",
       "    </tr>\n",
       "    <tr>\n",
       "      <th>1689028</th>\n",
       "      <td>6192843</td>\n",
       "      <td>0.683013</td>\n",
       "    </tr>\n",
       "    <tr>\n",
       "      <th>1804560</th>\n",
       "      <td>6333423</td>\n",
       "      <td>0.507347</td>\n",
       "    </tr>\n",
       "    <tr>\n",
       "      <th>491496</th>\n",
       "      <td>846379</td>\n",
       "      <td>0.507128</td>\n",
       "    </tr>\n",
       "    <tr>\n",
       "      <th>860907</th>\n",
       "      <td>5173752</td>\n",
       "      <td>0.523539</td>\n",
       "    </tr>\n",
       "    <tr>\n",
       "      <th>1500983</th>\n",
       "      <td>5957453</td>\n",
       "      <td>0.685179</td>\n",
       "    </tr>\n",
       "    <tr>\n",
       "      <th>1531510</th>\n",
       "      <td>5996138</td>\n",
       "      <td>0.548441</td>\n",
       "    </tr>\n",
       "    <tr>\n",
       "      <th>1055815</th>\n",
       "      <td>5407595</td>\n",
       "      <td>0.589850</td>\n",
       "    </tr>\n",
       "    <tr>\n",
       "      <th>1225098</th>\n",
       "      <td>5612126</td>\n",
       "      <td>0.553156</td>\n",
       "    </tr>\n",
       "    <tr>\n",
       "      <th>922418</th>\n",
       "      <td>5248021</td>\n",
       "      <td>0.668249</td>\n",
       "    </tr>\n",
       "    <tr>\n",
       "      <th>1493504</th>\n",
       "      <td>5948223</td>\n",
       "      <td>0.532489</td>\n",
       "    </tr>\n",
       "    <tr>\n",
       "      <th>856183</th>\n",
       "      <td>5167993</td>\n",
       "      <td>0.670080</td>\n",
       "    </tr>\n",
       "    <tr>\n",
       "      <th>969088</th>\n",
       "      <td>5303468</td>\n",
       "      <td>0.559460</td>\n",
       "    </tr>\n",
       "    <tr>\n",
       "      <th>852544</th>\n",
       "      <td>5163553</td>\n",
       "      <td>0.542014</td>\n",
       "    </tr>\n",
       "    <tr>\n",
       "      <th>1112308</th>\n",
       "      <td>5475444</td>\n",
       "      <td>0.663089</td>\n",
       "    </tr>\n",
       "    <tr>\n",
       "      <th>341400</th>\n",
       "      <td>661273</td>\n",
       "      <td>0.617802</td>\n",
       "    </tr>\n",
       "    <tr>\n",
       "      <th>256327</th>\n",
       "      <td>557351</td>\n",
       "      <td>0.726275</td>\n",
       "    </tr>\n",
       "    <tr>\n",
       "      <th>311489</th>\n",
       "      <td>623610</td>\n",
       "      <td>0.639195</td>\n",
       "    </tr>\n",
       "    <tr>\n",
       "      <th>366513</th>\n",
       "      <td>691863</td>\n",
       "      <td>0.554330</td>\n",
       "    </tr>\n",
       "    <tr>\n",
       "      <th>513003</th>\n",
       "      <td>871688</td>\n",
       "      <td>0.592925</td>\n",
       "    </tr>\n",
       "    <tr>\n",
       "      <th>1438512</th>\n",
       "      <td>5877627</td>\n",
       "      <td>0.596432</td>\n",
       "    </tr>\n",
       "    <tr>\n",
       "      <th>...</th>\n",
       "      <td>...</td>\n",
       "      <td>...</td>\n",
       "    </tr>\n",
       "    <tr>\n",
       "      <th>1782478</th>\n",
       "      <td>6306290</td>\n",
       "      <td>0.546652</td>\n",
       "    </tr>\n",
       "    <tr>\n",
       "      <th>1750703</th>\n",
       "      <td>6268115</td>\n",
       "      <td>0.566502</td>\n",
       "    </tr>\n",
       "    <tr>\n",
       "      <th>994193</th>\n",
       "      <td>5333478</td>\n",
       "      <td>0.576077</td>\n",
       "    </tr>\n",
       "    <tr>\n",
       "      <th>916193</th>\n",
       "      <td>5240778</td>\n",
       "      <td>0.559819</td>\n",
       "    </tr>\n",
       "    <tr>\n",
       "      <th>550827</th>\n",
       "      <td>916920</td>\n",
       "      <td>0.578461</td>\n",
       "    </tr>\n",
       "    <tr>\n",
       "      <th>39711</th>\n",
       "      <td>290226</td>\n",
       "      <td>0.645427</td>\n",
       "    </tr>\n",
       "    <tr>\n",
       "      <th>66889</th>\n",
       "      <td>324040</td>\n",
       "      <td>0.722164</td>\n",
       "    </tr>\n",
       "    <tr>\n",
       "      <th>1498714</th>\n",
       "      <td>5954705</td>\n",
       "      <td>0.662028</td>\n",
       "    </tr>\n",
       "    <tr>\n",
       "      <th>84454</th>\n",
       "      <td>345933</td>\n",
       "      <td>0.596343</td>\n",
       "    </tr>\n",
       "    <tr>\n",
       "      <th>857737</th>\n",
       "      <td>5169865</td>\n",
       "      <td>0.693737</td>\n",
       "    </tr>\n",
       "    <tr>\n",
       "      <th>1364941</th>\n",
       "      <td>5784875</td>\n",
       "      <td>0.527052</td>\n",
       "    </tr>\n",
       "    <tr>\n",
       "      <th>1163349</th>\n",
       "      <td>5538076</td>\n",
       "      <td>0.680658</td>\n",
       "    </tr>\n",
       "    <tr>\n",
       "      <th>1210456</th>\n",
       "      <td>5594868</td>\n",
       "      <td>0.521329</td>\n",
       "    </tr>\n",
       "    <tr>\n",
       "      <th>1783066</th>\n",
       "      <td>6306978</td>\n",
       "      <td>0.630417</td>\n",
       "    </tr>\n",
       "    <tr>\n",
       "      <th>886259</th>\n",
       "      <td>5204799</td>\n",
       "      <td>0.514676</td>\n",
       "    </tr>\n",
       "    <tr>\n",
       "      <th>1325717</th>\n",
       "      <td>5735597</td>\n",
       "      <td>0.663317</td>\n",
       "    </tr>\n",
       "    <tr>\n",
       "      <th>1588804</th>\n",
       "      <td>6066195</td>\n",
       "      <td>0.542004</td>\n",
       "    </tr>\n",
       "    <tr>\n",
       "      <th>1025348</th>\n",
       "      <td>5370894</td>\n",
       "      <td>0.506818</td>\n",
       "    </tr>\n",
       "    <tr>\n",
       "      <th>353897</th>\n",
       "      <td>676402</td>\n",
       "      <td>0.640350</td>\n",
       "    </tr>\n",
       "    <tr>\n",
       "      <th>1803832</th>\n",
       "      <td>6332405</td>\n",
       "      <td>0.602093</td>\n",
       "    </tr>\n",
       "    <tr>\n",
       "      <th>1420236</th>\n",
       "      <td>5854695</td>\n",
       "      <td>0.621113</td>\n",
       "    </tr>\n",
       "    <tr>\n",
       "      <th>186822</th>\n",
       "      <td>469596</td>\n",
       "      <td>0.648321</td>\n",
       "    </tr>\n",
       "    <tr>\n",
       "      <th>684198</th>\n",
       "      <td>1078589</td>\n",
       "      <td>0.600585</td>\n",
       "    </tr>\n",
       "    <tr>\n",
       "      <th>996207</th>\n",
       "      <td>5336002</td>\n",
       "      <td>0.520504</td>\n",
       "    </tr>\n",
       "    <tr>\n",
       "      <th>1259612</th>\n",
       "      <td>5654456</td>\n",
       "      <td>0.514353</td>\n",
       "    </tr>\n",
       "    <tr>\n",
       "      <th>1632262</th>\n",
       "      <td>6121459</td>\n",
       "      <td>0.567760</td>\n",
       "    </tr>\n",
       "    <tr>\n",
       "      <th>554254</th>\n",
       "      <td>921310</td>\n",
       "      <td>0.521979</td>\n",
       "    </tr>\n",
       "    <tr>\n",
       "      <th>1242294</th>\n",
       "      <td>5632654</td>\n",
       "      <td>0.644513</td>\n",
       "    </tr>\n",
       "    <tr>\n",
       "      <th>187705</th>\n",
       "      <td>470737</td>\n",
       "      <td>0.640221</td>\n",
       "    </tr>\n",
       "    <tr>\n",
       "      <th>812541</th>\n",
       "      <td>5115403</td>\n",
       "      <td>0.609255</td>\n",
       "    </tr>\n",
       "  </tbody>\n",
       "</table>\n",
       "<p>353 rows × 2 columns</p>\n",
       "</div>"
      ],
      "text/plain": [
       "              id  prediction\n",
       "671894   1063508    0.524976\n",
       "1028842  5375010    0.607761\n",
       "763519   5054605    0.540545\n",
       "1364638  5784421    0.719910\n",
       "607171    985174    0.650491\n",
       "903967   5225738    0.630510\n",
       "236996    533194    0.560676\n",
       "939528   5268193    0.531823\n",
       "1650330  6144914    0.549486\n",
       "834071   5141395    0.517363\n",
       "1689028  6192843    0.683013\n",
       "1804560  6333423    0.507347\n",
       "491496    846379    0.507128\n",
       "860907   5173752    0.523539\n",
       "1500983  5957453    0.685179\n",
       "1531510  5996138    0.548441\n",
       "1055815  5407595    0.589850\n",
       "1225098  5612126    0.553156\n",
       "922418   5248021    0.668249\n",
       "1493504  5948223    0.532489\n",
       "856183   5167993    0.670080\n",
       "969088   5303468    0.559460\n",
       "852544   5163553    0.542014\n",
       "1112308  5475444    0.663089\n",
       "341400    661273    0.617802\n",
       "256327    557351    0.726275\n",
       "311489    623610    0.639195\n",
       "366513    691863    0.554330\n",
       "513003    871688    0.592925\n",
       "1438512  5877627    0.596432\n",
       "...          ...         ...\n",
       "1782478  6306290    0.546652\n",
       "1750703  6268115    0.566502\n",
       "994193   5333478    0.576077\n",
       "916193   5240778    0.559819\n",
       "550827    916920    0.578461\n",
       "39711     290226    0.645427\n",
       "66889     324040    0.722164\n",
       "1498714  5954705    0.662028\n",
       "84454     345933    0.596343\n",
       "857737   5169865    0.693737\n",
       "1364941  5784875    0.527052\n",
       "1163349  5538076    0.680658\n",
       "1210456  5594868    0.521329\n",
       "1783066  6306978    0.630417\n",
       "886259   5204799    0.514676\n",
       "1325717  5735597    0.663317\n",
       "1588804  6066195    0.542004\n",
       "1025348  5370894    0.506818\n",
       "353897    676402    0.640350\n",
       "1803832  6332405    0.602093\n",
       "1420236  5854695    0.621113\n",
       "186822    469596    0.648321\n",
       "684198   1078589    0.600585\n",
       "996207   5336002    0.520504\n",
       "1259612  5654456    0.514353\n",
       "1632262  6121459    0.567760\n",
       "554254    921310    0.521979\n",
       "1242294  5632654    0.644513\n",
       "187705    470737    0.640221\n",
       "812541   5115403    0.609255\n",
       "\n",
       "[353 rows x 2 columns]"
      ]
     },
     "execution_count": 17,
     "metadata": {},
     "output_type": "execute_result"
    }
   ],
   "source": [
    "# Comments classified as toxic by the model\n",
    "\n",
    "tox "
   ]
  },
  {
   "cell_type": "markdown",
   "metadata": {},
   "source": [
    "# Performance Metrics"
   ]
  },
  {
   "cell_type": "code",
   "execution_count": 31,
   "metadata": {},
   "outputs": [],
   "source": [
    "def get_perf(test, thresh=0.5):\n",
    "    accuracy, precision, recall = None, None, None\n",
    "    test = test.loc[:, 'id':'comment_text']\n",
    "    test['probs'] = res['prediction']\n",
    "    test['preds'] = test['probs'].apply(lambda x: 1 if x >= thresh else 0)\n",
    "    test['true'] = test['target'].apply(lambda x: 1 if x >= thresh else 0)\n",
    "    test['correct'] = test['true']==test['preds']\n",
    "    test['correct'] = test['correct'].apply(lambda x: 1 if x == True else 0)\n",
    "    test1prec = test[test['preds'] == 1]\n",
    "    test1rec = test[(test['true'] == 1) & (test['preds'] == 0)]\n",
    "    accuracy = test['correct'].sum()/len(test) \n",
    "    lenp, lenr, = len(test1prec), len(test1rec)\n",
    "    if lenp > 0:\n",
    "        precision = test1prec['correct'].sum()/lenp\n",
    "    if lenr > 0:\n",
    "        recall = test1prec['correct'].sum()/(test1prec['correct'].sum() + lenr) \n",
    "    f1 = 2*((precision*recall)/(precision+recall))\n",
    "    print(\"Accuracy: {} \\n Precision: {}, Recall: {}, F1 score: {}\".format(accuracy, precision, recall, f1))\n",
    "    return accuracy, precision, recall, f1"
   ]
  },
  {
   "cell_type": "code",
   "execution_count": 32,
   "metadata": {},
   "outputs": [
    {
     "name": "stdout",
     "output_type": "stream",
     "text": [
      "Accuracy: 0.9408825978351374 \n",
      " Precision: 0.7648725212464589, Recall: 0.3268765133171913, F1 score: 0.45801526717557245\n"
     ]
    },
    {
     "data": {
      "text/plain": [
       "(0.9408825978351374,\n",
       " 0.7648725212464589,\n",
       " 0.3268765133171913,\n",
       " 0.45801526717557245)"
      ]
     },
     "execution_count": 32,
     "metadata": {},
     "output_type": "execute_result"
    }
   ],
   "source": [
    "get_perf(test)"
   ]
  },
  {
   "cell_type": "code",
   "execution_count": null,
   "metadata": {},
   "outputs": [],
   "source": [
    "# Next steps:\n",
    "\n",
    "# - flexib to choose GRU\n",
    "# - build grid to tune hyperparams\n",
    "# - concat =/= embeds, maybe weighted avg \n",
    "# - assessing bias "
   ]
  },
  {
   "cell_type": "code",
   "execution_count": null,
   "metadata": {},
   "outputs": [],
   "source": []
  }
 ],
 "metadata": {
  "kernelspec": {
   "display_name": "Python 3",
   "language": "python",
   "name": "python3"
  },
  "language_info": {
   "codemirror_mode": {
    "name": "ipython",
    "version": 3
   },
   "file_extension": ".py",
   "mimetype": "text/x-python",
   "name": "python",
   "nbconvert_exporter": "python",
   "pygments_lexer": "ipython3",
   "version": "3.6.2"
  }
 },
 "nbformat": 4,
 "nbformat_minor": 2
}
