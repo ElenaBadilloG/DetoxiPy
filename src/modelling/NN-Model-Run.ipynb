{
 "cells": [
  {
   "cell_type": "code",
   "execution_count": 30,
   "metadata": {},
   "outputs": [
    {
     "name": "stdout",
     "output_type": "stream",
     "text": [
      "The autoreload extension is already loaded. To reload it, use:\n",
      "  %reload_ext autoreload\n"
     ]
    }
   ],
   "source": [
    "import nn_model_pipeline as nn\n",
    "%load_ext autoreload\n",
    "%autoreload 2"
   ]
  },
  {
   "cell_type": "markdown",
   "metadata": {},
   "source": [
    "# Model Performance\n",
    "> Using 5% of the full training set"
   ]
  },
  {
   "cell_type": "markdown",
   "metadata": {},
   "source": [
    "## 1. No bias correction:"
   ]
  },
  {
   "cell_type": "code",
   "execution_count": 29,
   "metadata": {},
   "outputs": [
    {
     "name": "stdout",
     "output_type": "stream",
     "text": [
      "DATASETS READY: \n",
      "Model  0 \n",
      "Epoch 1/4  loss=0.1698  time=1599.74s\n",
      "Epoch 2/4  loss=0.1297  time=1577.09s\n",
      "Epoch 3/4  loss=0.1246  time=1572.84s\n",
      "Epoch 4/4  loss=0.1228  time=1572.52s)\n",
      "\n",
      "\n",
      "Overall Accuracy: 0.942195464283076 \n",
      "Overall Precision: 0.6783461807988788 \n",
      " Bias: 0.06230067923431759, \n",
      " Overall Performance: 0.7561521227889199\n"
     ]
    }
   ],
   "source": [
    "test, perf, bias = nn.main()"
   ]
  },
  {
   "cell_type": "markdown",
   "metadata": {},
   "source": [
    "## 2. Bias correction:"
   ]
  },
  {
   "cell_type": "code",
   "execution_count": 3,
   "metadata": {},
   "outputs": [
    {
     "name": "stdout",
     "output_type": "stream",
     "text": [
      "DATASETS READY:\n",
      "Model  0\n",
      "Epoch 1/4 \t loss=0.1700 \t time=1575.99s\n",
      "Epoch 2/4 \t loss=0.1309 \t time=1580.34s\n",
      "Epoch 3/4 \t loss=0.1262 \t time=1666.64s\n",
      "Epoch 4/4 \t loss=0.1244 \t time=1575.75s\n",
      "\n",
      "Overall Accuracy: 0.9421585284775061 \n",
      " Overall Precision: 0.6816881258941345\n",
      "Bias: 0.04936294824810772, \n",
      " Overall Performance: 0.7623728036514619\n"
     ]
    }
   ],
   "source": [
    "testB, perfB, biasB = nn.main(cln_replaceId = True)"
   ]
  },
  {
   "cell_type": "code",
   "execution_count": 11,
   "metadata": {},
   "outputs": [
    {
     "name": "stdout",
     "output_type": "stream",
     "text": [
      "Performance Improvement: 0.8226758445904041%\n"
     ]
    }
   ],
   "source": [
    "print(\"Performance Improvement: {}%\".format(str(((perfB-perf)*100)/perf)))"
   ]
  }
 ],
 "metadata": {
  "kernelspec": {
   "display_name": "Python 3",
   "language": "python",
   "name": "python3"
  },
  "language_info": {
   "codemirror_mode": {
    "name": "ipython",
    "version": 3
   },
   "file_extension": ".py",
   "mimetype": "text/x-python",
   "name": "python",
   "nbconvert_exporter": "python",
   "pygments_lexer": "ipython3",
   "version": "3.6.2"
  }
 },
 "nbformat": 4,
 "nbformat_minor": 2
}
