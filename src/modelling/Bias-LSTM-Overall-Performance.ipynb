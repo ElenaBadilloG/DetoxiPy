{
 "cells": [
  {
   "cell_type": "code",
   "execution_count": 3,
   "metadata": {},
   "outputs": [
    {
     "name": "stderr",
     "output_type": "stream",
     "text": [
      "/Library/Frameworks/Python.framework/Versions/3.6/lib/python3.6/site-packages/h5py/__init__.py:36: FutureWarning: Conversion of the second argument of issubdtype from `float` to `np.floating` is deprecated. In future, it will be treated as `np.float64 == np.dtype(float).type`.\n",
      "  from ._conv import register_converters as _register_converters\n",
      "Using TensorFlow backend.\n"
     ]
    }
   ],
   "source": [
    "import numpy as np\n",
    "import pandas as pd\n",
    "import os\n",
    "import time\n",
    "import gc\n",
    "import random\n",
    "from tqdm._tqdm_notebook import tqdm_notebook as tqdm\n",
    "from keras.preprocessing import text, sequence\n",
    "import torch\n",
    "from torch import nn\n",
    "from torch.utils import data\n",
    "from torch.nn import functional as F\n",
    "import sys"
   ]
  },
  {
   "cell_type": "markdown",
   "metadata": {},
   "source": [
    "# A Simple RNN Pipeline for Comment Toxicity Classification\n",
    "> June 2, 2019\n",
    "\n",
    "> ref: https://www.kaggle.com/bminixhofer/simple-lstm-pytorch-version"
   ]
  },
  {
   "cell_type": "code",
   "execution_count": 4,
   "metadata": {},
   "outputs": [],
   "source": [
    "def seed_everything(seed=1234): # for reproducibility\n",
    "    random.seed(seed)\n",
    "    os.environ['PYTHONHASHSEED'] = str(seed)\n",
    "    np.random.seed(seed)\n",
    "    torch.manual_seed(seed)\n",
    "    torch.cuda.manual_seed(seed)\n",
    "    torch.backends.cudnn.deterministic = True\n",
    "seed_everything()"
   ]
  },
  {
   "cell_type": "code",
   "execution_count": 5,
   "metadata": {},
   "outputs": [],
   "source": [
    "# Global params\n",
    "GLOVE_EMBEDDING_PATH = '/Users/elenabg/Documents/6Q/AML/Project/glove.840B.300d.txt'\n",
    "NUM_MODELS = 1\n",
    "LSTM_UNITS = 128\n",
    "DENSE_HIDDEN_UNITS = 4 * LSTM_UNITS\n",
    "MAX_LEN = 220\n",
    "max_features = None"
   ]
  },
  {
   "cell_type": "code",
   "execution_count": 6,
   "metadata": {},
   "outputs": [],
   "source": [
    "# Helper Funcs for word embeddings\n",
    "\n",
    "def get_coefs(word, *arr):\n",
    "    return word, np.asarray(arr, dtype='float32')\n",
    "\n",
    "def load_embeddings(path):\n",
    "    with open(path) as f:\n",
    "        return dict(get_coefs(*line.strip().split(' ')) for line in tqdm(f))\n",
    "\n",
    "def build_matrix(word_index, path):\n",
    "    embedding_index = load_embeddings(path)\n",
    "    embedding_matrix = np.zeros((len(word_index) + 1, 300))\n",
    "    unknown_words = []\n",
    "    \n",
    "    for word, i in word_index.items():\n",
    "        try:\n",
    "            embedding_matrix[i] = embedding_index[word]\n",
    "        except KeyError:\n",
    "            unknown_words.append(word)\n",
    "    return embedding_matrix, unknown_words"
   ]
  },
  {
   "cell_type": "markdown",
   "metadata": {},
   "source": [
    "# Model Definition: LSTM"
   ]
  },
  {
   "cell_type": "code",
   "execution_count": 7,
   "metadata": {},
   "outputs": [],
   "source": [
    "class SpatialDropout(nn.Dropout2d):\n",
    "    def forward(self, x):\n",
    "        x = x.unsqueeze(2)    # (N, T, 1, K)\n",
    "        x = x.permute(0, 3, 2, 1)  # (N, K, 1, T)\n",
    "        x = super(SpatialDropout, self).forward(x)  # (N, K, 1, T), some features are masked\n",
    "        x = x.permute(0, 3, 2, 1)  # (N, T, 1, K)\n",
    "        x = x.squeeze(2)  # (N, T, K)\n",
    "        return x\n",
    "    \n",
    "class NeuralNet(nn.Module):\n",
    "    def __init__(self, embedding_matrix, num_aux_targets):\n",
    "        super(NeuralNet, self).__init__()\n",
    "        embed_size = embedding_matrix.shape[1]\n",
    "        \n",
    "        self.embedding = nn.Embedding(max_features, embed_size)\n",
    "        self.embedding.weight = nn.Parameter(torch.tensor(embedding_matrix, dtype=torch.float32))\n",
    "        self.embedding.weight.requires_grad = False\n",
    "        self.embedding_dropout = SpatialDropout(0.3)\n",
    "        \n",
    "        self.lstm1 = nn.LSTM(embed_size, LSTM_UNITS, bidirectional=True, batch_first=True)\n",
    "        self.lstm2 = nn.LSTM(LSTM_UNITS * 2, LSTM_UNITS, bidirectional=True, batch_first=True)\n",
    "    \n",
    "        self.linear1 = nn.Linear(DENSE_HIDDEN_UNITS, DENSE_HIDDEN_UNITS)\n",
    "        self.linear2 = nn.Linear(DENSE_HIDDEN_UNITS, DENSE_HIDDEN_UNITS)\n",
    "        \n",
    "        self.linear_out = nn.Linear(DENSE_HIDDEN_UNITS, 1)\n",
    "        self.linear_aux_out = nn.Linear(DENSE_HIDDEN_UNITS, num_aux_targets)\n",
    "        \n",
    "    def forward(self, x):\n",
    "        h_embedding = self.embedding(x)\n",
    "        h_embedding = self.embedding_dropout(h_embedding)\n",
    "        \n",
    "        h_lstm1, _ = self.lstm1(h_embedding)\n",
    "        h_lstm2, _ = self.lstm2(h_lstm1)\n",
    "        \n",
    "        # global average pooling\n",
    "        avg_pool = torch.mean(h_lstm2, 1)\n",
    "        # global max pooling\n",
    "        max_pool, _ = torch.max(h_lstm2, 1)\n",
    "        \n",
    "        h_conc = torch.cat((max_pool, avg_pool), 1)\n",
    "        h_conc_linear1  = F.relu(self.linear1(h_conc))\n",
    "        h_conc_linear2  = F.relu(self.linear2(h_conc))\n",
    "        \n",
    "        hidden = h_conc + h_conc_linear1 + h_conc_linear2\n",
    "        \n",
    "        result = self.linear_out(hidden)\n",
    "        aux_result = self.linear_aux_out(hidden)\n",
    "        out = torch.cat([result, aux_result], 1)\n",
    "        \n",
    "        return out"
   ]
  },
  {
   "cell_type": "markdown",
   "metadata": {},
   "source": [
    "# Model Definition: GRU"
   ]
  },
  {
   "cell_type": "code",
   "execution_count": 8,
   "metadata": {},
   "outputs": [],
   "source": [
    "class SpatialDropout(nn.Dropout2d):\n",
    "    def forward(self, x):\n",
    "        x = x.unsqueeze(2)    # (N, T, 1, K)\n",
    "        x = x.permute(0, 3, 2, 1)  # (N, K, 1, T)\n",
    "        x = super(SpatialDropout, self).forward(x)  # (N, K, 1, T), some features are masked\n",
    "        x = x.permute(0, 3, 2, 1)  # (N, T, 1, K)\n",
    "        x = x.squeeze(2)  # (N, T, K)\n",
    "        return x\n",
    "    \n",
    "class NeuralNetGRU(nn.Module):\n",
    "    def __init__(self, embedding_matrix, num_aux_targets):\n",
    "        super(NeuralNetGRU, self).__init__()\n",
    "        embed_size = embedding_matrix.shape[1]\n",
    "        \n",
    "        self.embedding = nn.Embedding(max_features, embed_size)\n",
    "        self.embedding.weight = nn.Parameter(torch.tensor(embedding_matrix, dtype=torch.float32))\n",
    "        self.embedding.weight.requires_grad = False\n",
    "        self.embedding_dropout = SpatialDropout(0.3)\n",
    "        \n",
    "        self.gru = nn.GRU(embed_size, LSTM_UNITS)\n",
    "        self.linear1 = nn.Linear(DENSE_HIDDEN_UNITS, DENSE_HIDDEN_UNITS)\n",
    "        self.linear2 = nn.Linear(DENSE_HIDDEN_UNITS, DENSE_HIDDEN_UNITS)\n",
    "        \n",
    "        self.linear_out = nn.Linear(DENSE_HIDDEN_UNITS, 1)\n",
    "        self.linear_aux_out = nn.Linear(DENSE_HIDDEN_UNITS, num_aux_targets)\n",
    "        \n",
    "    def forward(self, x):\n",
    "        h_embedding = self.embedding(x)\n",
    "        h_embedding = self.embedding_dropout(h_embedding)\n",
    "        \n",
    "        h_gru, _ = self.gru(h_embedding)\n",
    "        \n",
    "        # global average pooling\n",
    "        avg_pool = torch.mean(h_gru, 1)\n",
    "        # global max pooling\n",
    "        max_pool, _ = torch.max(h_gru, 1)\n",
    "        \n",
    "        h_conc = torch.cat((max_pool, avg_pool), 1)\n",
    "        h_conc_linear1  = F.relu(self.linear1(h_conc))\n",
    "        h_conc_linear2  = F.relu(self.linear2(h_conc))\n",
    "        \n",
    "        hidden = h_conc + h_conc_linear1 + h_conc_linear2\n",
    "        \n",
    "        result = self.linear_out(hidden)\n",
    "        aux_result = self.linear_aux_out(hidden)\n",
    "        out = torch.cat([result, aux_result], 1)\n",
    "        \n",
    "        return out"
   ]
  },
  {
   "cell_type": "markdown",
   "metadata": {},
   "source": [
    "# Train Model"
   ]
  },
  {
   "cell_type": "code",
   "execution_count": 9,
   "metadata": {},
   "outputs": [],
   "source": [
    "def sigmoid(x):\n",
    "    return 1 / (1 + np.exp(-x))\n",
    "\n",
    "def train_model(model, train, test, loss_fn, output_dim, lr=0.001,\n",
    "                batch_size=512, n_epochs=4,\n",
    "                enable_checkpoint_ensemble=True):\n",
    "    param_lrs = [{'params': param, 'lr': lr} for param in model.parameters()]\n",
    "    optimizer = torch.optim.Adam(param_lrs, lr=lr)\n",
    "\n",
    "    scheduler = torch.optim.lr_scheduler.LambdaLR(optimizer, lambda epoch: 0.6 ** epoch)\n",
    "    \n",
    "    train_loader = torch.utils.data.DataLoader(train, batch_size=batch_size, shuffle=True)\n",
    "    test_loader = torch.utils.data.DataLoader(test, batch_size=batch_size, shuffle=False)\n",
    "    all_test_preds = []\n",
    "    checkpoint_weights = [2 ** epoch for epoch in range(n_epochs)]\n",
    "    \n",
    "    for epoch in range(n_epochs):\n",
    "        start_time = time.time()\n",
    "        \n",
    "        scheduler.step()\n",
    "        \n",
    "        model.train()\n",
    "        avg_loss = 0.\n",
    "        \n",
    "        for data in tqdm(train_loader, disable=False):\n",
    "            x_batch = data[:-1]\n",
    "            y_batch = data[-1]\n",
    "\n",
    "            y_pred = model(*x_batch)            \n",
    "            loss = loss_fn(y_pred, y_batch)\n",
    "\n",
    "            optimizer.zero_grad()\n",
    "            loss.backward()\n",
    "            \n",
    "            \n",
    "            optimizer.step()\n",
    "            avg_loss += loss.item() / len(train_loader)\n",
    "            \n",
    "        model.eval()\n",
    "        test_preds = np.zeros((len(test), output_dim))\n",
    "    \n",
    "        for i, x_batch in enumerate(test_loader):\n",
    "            y_pred = sigmoid(model(*x_batch).detach().cpu().numpy())\n",
    "\n",
    "            test_preds[i * batch_size:(i+1) * batch_size, :] = y_pred\n",
    "\n",
    "        all_test_preds.append(test_preds)\n",
    "        elapsed_time = time.time() - start_time\n",
    "        print('Epoch {}/{} \\t loss={:.4f} \\t time={:.2f}s'.format(\n",
    "              epoch + 1, n_epochs, avg_loss, elapsed_time))\n",
    "\n",
    "    if enable_checkpoint_ensemble:\n",
    "        test_preds = np.average(all_test_preds, weights=checkpoint_weights, axis=0)    \n",
    "    else:\n",
    "        test_preds = all_test_preds[-1]\n",
    "        \n",
    "    return test_preds"
   ]
  },
  {
   "cell_type": "markdown",
   "metadata": {},
   "source": [
    "# Text Preprocessing Pipeline"
   ]
  },
  {
   "cell_type": "code",
   "execution_count": 10,
   "metadata": {},
   "outputs": [],
   "source": [
    "sys.path.insert(0, '/Users/elenabg/')\n",
    "import text_cleaner as pre\n",
    "\n",
    "def preprocess(data):\n",
    "    '''\n",
    "    Cleans comment text by:\n",
    "    1) removing selected punctuation marks, \n",
    "    2) homogenezing contractions,\n",
    "    3) homogenezing selected proper names,\n",
    "    4) correcting selected misspellings\n",
    "    '''\n",
    "\n",
    "    data = data.astype(str).apply(lambda x: pre.clean_special_chars(x))\n",
    "    data = data.astype(str).apply(lambda x: pre.clean_contractions_and_spelling(x))\n",
    "    data = data.astype(str).apply(lambda x: pre.replace_identities(x))\n",
    "    return data"
   ]
  },
  {
   "cell_type": "markdown",
   "metadata": {},
   "source": [
    "# Load and Subset Datasets"
   ]
  },
  {
   "cell_type": "code",
   "execution_count": 11,
   "metadata": {},
   "outputs": [],
   "source": [
    "FRAC = 0.015\n",
    "tokenizer = text.Tokenizer()\n",
    "max_features = None #327576\n",
    "TRAIN_PATH='/Users/elenabg/DetoxiPy/train.csv'\n",
    "TEST_PATH='/Users/elenabg/DetoxiPy/test.csv'\n",
    "\n",
    "def build_datasets(tokenizer, frac=FRAC, train_frac=0.7, train_path=TRAIN_PATH,\n",
    "                   test_path=TEST_PATH):\n",
    "    \n",
    "    df = pd.read_csv(train_path).sample(frac=frac)\n",
    "    \n",
    "    # divide into train and test\n",
    "    msk = np.random.rand(len(df)) < train_frac\n",
    "    train = df[msk]\n",
    "    test = df[~msk]\n",
    "    #test = pd.read_csv(test_path).sample(frac=frac)\n",
    "\n",
    "    x_train = preprocess(train['comment_text']) # our own pre-processing pipeline goes here\n",
    "    y_train = np.where(train['target'] >= 0.5, 1, 0)\n",
    "    y_aux_train = train[['target', 'severe_toxicity', 'obscene', 'identity_attack', 'insult', 'threat']]\n",
    "    x_test = preprocess(test['comment_text']) # same\n",
    "    tokenizer.fit_on_texts(list(x_train) + list(x_test))\n",
    "    x_train = tokenizer.texts_to_sequences(x_train)\n",
    "    x_test = tokenizer.texts_to_sequences(x_test)\n",
    "    x_train = sequence.pad_sequences(x_train, maxlen=MAX_LEN)\n",
    "    x_test = sequence.pad_sequences(x_test, maxlen=MAX_LEN)\n",
    "    return x_train, x_test, y_train, y_aux_train, tokenizer, train, test"
   ]
  },
  {
   "cell_type": "code",
   "execution_count": 12,
   "metadata": {},
   "outputs": [],
   "source": [
    "x_train, x_test, y_train, y_aux_train, tokenizer_trained, train, test = build_datasets(tokenizer, frac=FRAC,  \n",
    "                                               train_path=TRAIN_PATH, test_path=TEST_PATH)"
   ]
  },
  {
   "cell_type": "markdown",
   "metadata": {},
   "source": [
    "# Train Embedding"
   ]
  },
  {
   "cell_type": "code",
   "execution_count": 13,
   "metadata": {},
   "outputs": [],
   "source": [
    "max_features = max_features or len(tokenizer_trained.word_index) + 1 "
   ]
  },
  {
   "cell_type": "code",
   "execution_count": 14,
   "metadata": {},
   "outputs": [
    {
     "data": {
      "application/vnd.jupyter.widget-view+json": {
       "model_id": "1a414cc57d18428fabac1ec06d0afcde",
       "version_major": 2,
       "version_minor": 0
      },
      "text/plain": [
       "HBox(children=(IntProgress(value=1, bar_style='info', max=1), HTML(value='')))"
      ]
     },
     "metadata": {},
     "output_type": "display_data"
    },
    {
     "name": "stdout",
     "output_type": "stream",
     "text": [
      "\n",
      "\n",
      " unknown words (glove):  7037\n"
     ]
    }
   ],
   "source": [
    "glove_matrix, unknown_words_glove = build_matrix(tokenizer_trained.word_index, GLOVE_EMBEDDING_PATH)\n",
    "print('\\n unknown words (glove): ', len(unknown_words_glove))"
   ]
  },
  {
   "cell_type": "markdown",
   "metadata": {},
   "source": [
    "# Build Model"
   ]
  },
  {
   "cell_type": "code",
   "execution_count": 15,
   "metadata": {},
   "outputs": [],
   "source": [
    "def build_model(x_train, y_train, x_test, y_aux_train, NUM_MODELS, glove_matrix,\n",
    "                model_type='LSTM'):\n",
    "    \n",
    "    x_train_torch = torch.tensor(x_train, dtype=torch.long)\n",
    "    x_test_torch = torch.tensor(x_test, dtype=torch.long)\n",
    "    y_train_torch = torch.tensor(np.hstack([y_train[:, np.newaxis], y_aux_train]),\n",
    "                                 dtype=torch.float32)\n",
    "    train_dataset = data.TensorDataset(x_train_torch, y_train_torch)\n",
    "    test_dataset = data.TensorDataset(x_test_torch)\n",
    "\n",
    "    all_test_preds = []\n",
    "\n",
    "    for model_idx in range(NUM_MODELS):\n",
    "        print('Model ', model_idx)\n",
    "        seed_everything(1234 + model_idx)\n",
    "        if model_type=='LSTM':\n",
    "            model = NeuralNet(glove_matrix, y_aux_train.shape[-1]) \n",
    "        else:\n",
    "            model = NeuralNetGRU(glove_matrix, y_aux_train.shape[-1])\n",
    "        #model.cuda()\n",
    "\n",
    "        test_preds = train_model(model, train_dataset, test_dataset,\n",
    "                                 output_dim=y_train_torch.shape[-1], \n",
    "                                 loss_fn=nn.BCEWithLogitsLoss(reduction='mean'))\n",
    "        all_test_preds.append(test_preds)\n",
    "        print()\n",
    "    return all_test_preds"
   ]
  },
  {
   "cell_type": "markdown",
   "metadata": {},
   "source": [
    "# Test Model"
   ]
  },
  {
   "cell_type": "code",
   "execution_count": 16,
   "metadata": {},
   "outputs": [
    {
     "name": "stdout",
     "output_type": "stream",
     "text": [
      "Model  0\n"
     ]
    },
    {
     "data": {
      "application/vnd.jupyter.widget-view+json": {
       "model_id": "61ebadd29c8f4d569eaf3c72167e6699",
       "version_major": 2,
       "version_minor": 0
      },
      "text/plain": [
       "HBox(children=(IntProgress(value=0, max=38), HTML(value='')))"
      ]
     },
     "metadata": {},
     "output_type": "display_data"
    },
    {
     "name": "stdout",
     "output_type": "stream",
     "text": [
      "\n",
      "Epoch 1/4 \t loss=0.2278 \t time=512.37s\n"
     ]
    },
    {
     "data": {
      "application/vnd.jupyter.widget-view+json": {
       "model_id": "5789214491104b1984891f335771595d",
       "version_major": 2,
       "version_minor": 0
      },
      "text/plain": [
       "HBox(children=(IntProgress(value=0, max=38), HTML(value='')))"
      ]
     },
     "metadata": {},
     "output_type": "display_data"
    },
    {
     "name": "stdout",
     "output_type": "stream",
     "text": [
      "\n",
      "Epoch 2/4 \t loss=0.1595 \t time=510.69s\n"
     ]
    },
    {
     "data": {
      "application/vnd.jupyter.widget-view+json": {
       "model_id": "785004319cdb492d98be3f3af9e08429",
       "version_major": 2,
       "version_minor": 0
      },
      "text/plain": [
       "HBox(children=(IntProgress(value=0, max=38), HTML(value='')))"
      ]
     },
     "metadata": {},
     "output_type": "display_data"
    },
    {
     "name": "stdout",
     "output_type": "stream",
     "text": [
      "\n",
      "Epoch 3/4 \t loss=0.1418 \t time=517.85s\n"
     ]
    },
    {
     "data": {
      "application/vnd.jupyter.widget-view+json": {
       "model_id": "c207d19522964237a3a1feb531fa5d45",
       "version_major": 2,
       "version_minor": 0
      },
      "text/plain": [
       "HBox(children=(IntProgress(value=0, max=38), HTML(value='')))"
      ]
     },
     "metadata": {},
     "output_type": "display_data"
    },
    {
     "name": "stdout",
     "output_type": "stream",
     "text": [
      "\n",
      "Epoch 4/4 \t loss=0.1331 \t time=538.54s\n",
      "\n",
      "CPU times: user 55min 11s, sys: 5min 58s, total: 1h 1min 10s\n",
      "Wall time: 34min 39s\n"
     ]
    }
   ],
   "source": [
    "# 0.015 rand sample dataset\n",
    "%time all_test_preds = build_model(x_train, y_train, x_test, y_aux_train, NUM_MODELS, glove_matrix)"
   ]
  },
  {
   "cell_type": "code",
   "execution_count": 17,
   "metadata": {},
   "outputs": [],
   "source": [
    "res = pd.DataFrame.from_dict({\n",
    "    'id': test['id'],\n",
    "    'prediction': np.mean(all_test_preds, axis=0)[:, 0]})"
   ]
  },
  {
   "cell_type": "code",
   "execution_count": 18,
   "metadata": {},
   "outputs": [],
   "source": [
    "tox = res[res['prediction'] >= 0.5]"
   ]
  },
  {
   "cell_type": "code",
   "execution_count": 19,
   "metadata": {},
   "outputs": [
    {
     "data": {
      "text/html": [
       "<div>\n",
       "<style scoped>\n",
       "    .dataframe tbody tr th:only-of-type {\n",
       "        vertical-align: middle;\n",
       "    }\n",
       "\n",
       "    .dataframe tbody tr th {\n",
       "        vertical-align: top;\n",
       "    }\n",
       "\n",
       "    .dataframe thead th {\n",
       "        text-align: right;\n",
       "    }\n",
       "</style>\n",
       "<table border=\"1\" class=\"dataframe\">\n",
       "  <thead>\n",
       "    <tr style=\"text-align: right;\">\n",
       "      <th></th>\n",
       "      <th>id</th>\n",
       "      <th>prediction</th>\n",
       "    </tr>\n",
       "  </thead>\n",
       "  <tbody>\n",
       "    <tr>\n",
       "      <th>1364638</th>\n",
       "      <td>5784421</td>\n",
       "      <td>0.542056</td>\n",
       "    </tr>\n",
       "    <tr>\n",
       "      <th>1689028</th>\n",
       "      <td>6192843</td>\n",
       "      <td>0.539668</td>\n",
       "    </tr>\n",
       "    <tr>\n",
       "      <th>1500983</th>\n",
       "      <td>5957453</td>\n",
       "      <td>0.514569</td>\n",
       "    </tr>\n",
       "    <tr>\n",
       "      <th>256327</th>\n",
       "      <td>557351</td>\n",
       "      <td>0.543233</td>\n",
       "    </tr>\n",
       "    <tr>\n",
       "      <th>1494594</th>\n",
       "      <td>5949674</td>\n",
       "      <td>0.520243</td>\n",
       "    </tr>\n",
       "    <tr>\n",
       "      <th>432133</th>\n",
       "      <td>772530</td>\n",
       "      <td>0.580685</td>\n",
       "    </tr>\n",
       "    <tr>\n",
       "      <th>93508</th>\n",
       "      <td>356878</td>\n",
       "      <td>0.544084</td>\n",
       "    </tr>\n",
       "    <tr>\n",
       "      <th>1422552</th>\n",
       "      <td>5857416</td>\n",
       "      <td>0.517220</td>\n",
       "    </tr>\n",
       "    <tr>\n",
       "      <th>1693233</th>\n",
       "      <td>6198008</td>\n",
       "      <td>0.550833</td>\n",
       "    </tr>\n",
       "    <tr>\n",
       "      <th>281868</th>\n",
       "      <td>587545</td>\n",
       "      <td>0.558983</td>\n",
       "    </tr>\n",
       "    <tr>\n",
       "      <th>949463</th>\n",
       "      <td>5280178</td>\n",
       "      <td>0.542508</td>\n",
       "    </tr>\n",
       "    <tr>\n",
       "      <th>1196899</th>\n",
       "      <td>5578696</td>\n",
       "      <td>0.524686</td>\n",
       "    </tr>\n",
       "    <tr>\n",
       "      <th>563760</th>\n",
       "      <td>932476</td>\n",
       "      <td>0.500362</td>\n",
       "    </tr>\n",
       "    <tr>\n",
       "      <th>997964</th>\n",
       "      <td>5338096</td>\n",
       "      <td>0.518381</td>\n",
       "    </tr>\n",
       "    <tr>\n",
       "      <th>134884</th>\n",
       "      <td>406782</td>\n",
       "      <td>0.506398</td>\n",
       "    </tr>\n",
       "    <tr>\n",
       "      <th>642508</th>\n",
       "      <td>1028631</td>\n",
       "      <td>0.500627</td>\n",
       "    </tr>\n",
       "    <tr>\n",
       "      <th>644744</th>\n",
       "      <td>1031560</td>\n",
       "      <td>0.563535</td>\n",
       "    </tr>\n",
       "    <tr>\n",
       "      <th>1268032</th>\n",
       "      <td>5664573</td>\n",
       "      <td>0.534356</td>\n",
       "    </tr>\n",
       "    <tr>\n",
       "      <th>309801</th>\n",
       "      <td>621463</td>\n",
       "      <td>0.505771</td>\n",
       "    </tr>\n",
       "    <tr>\n",
       "      <th>1429873</th>\n",
       "      <td>5866933</td>\n",
       "      <td>0.504056</td>\n",
       "    </tr>\n",
       "    <tr>\n",
       "      <th>842635</th>\n",
       "      <td>5151821</td>\n",
       "      <td>0.547719</td>\n",
       "    </tr>\n",
       "    <tr>\n",
       "      <th>739707</th>\n",
       "      <td>5026607</td>\n",
       "      <td>0.544940</td>\n",
       "    </tr>\n",
       "    <tr>\n",
       "      <th>850425</th>\n",
       "      <td>5161075</td>\n",
       "      <td>0.534516</td>\n",
       "    </tr>\n",
       "    <tr>\n",
       "      <th>1658004</th>\n",
       "      <td>6154201</td>\n",
       "      <td>0.500734</td>\n",
       "    </tr>\n",
       "    <tr>\n",
       "      <th>459392</th>\n",
       "      <td>807480</td>\n",
       "      <td>0.538155</td>\n",
       "    </tr>\n",
       "    <tr>\n",
       "      <th>1282165</th>\n",
       "      <td>5681303</td>\n",
       "      <td>0.523034</td>\n",
       "    </tr>\n",
       "    <tr>\n",
       "      <th>1067515</th>\n",
       "      <td>5421245</td>\n",
       "      <td>0.513785</td>\n",
       "    </tr>\n",
       "    <tr>\n",
       "      <th>558083</th>\n",
       "      <td>925769</td>\n",
       "      <td>0.507660</td>\n",
       "    </tr>\n",
       "    <tr>\n",
       "      <th>1770484</th>\n",
       "      <td>6291198</td>\n",
       "      <td>0.508995</td>\n",
       "    </tr>\n",
       "    <tr>\n",
       "      <th>1132468</th>\n",
       "      <td>5499676</td>\n",
       "      <td>0.517179</td>\n",
       "    </tr>\n",
       "    <tr>\n",
       "      <th>379803</th>\n",
       "      <td>707733</td>\n",
       "      <td>0.525569</td>\n",
       "    </tr>\n",
       "    <tr>\n",
       "      <th>148219</th>\n",
       "      <td>423422</td>\n",
       "      <td>0.554750</td>\n",
       "    </tr>\n",
       "  </tbody>\n",
       "</table>\n",
       "</div>"
      ],
      "text/plain": [
       "              id  prediction\n",
       "1364638  5784421    0.542056\n",
       "1689028  6192843    0.539668\n",
       "1500983  5957453    0.514569\n",
       "256327    557351    0.543233\n",
       "1494594  5949674    0.520243\n",
       "432133    772530    0.580685\n",
       "93508     356878    0.544084\n",
       "1422552  5857416    0.517220\n",
       "1693233  6198008    0.550833\n",
       "281868    587545    0.558983\n",
       "949463   5280178    0.542508\n",
       "1196899  5578696    0.524686\n",
       "563760    932476    0.500362\n",
       "997964   5338096    0.518381\n",
       "134884    406782    0.506398\n",
       "642508   1028631    0.500627\n",
       "644744   1031560    0.563535\n",
       "1268032  5664573    0.534356\n",
       "309801    621463    0.505771\n",
       "1429873  5866933    0.504056\n",
       "842635   5151821    0.547719\n",
       "739707   5026607    0.544940\n",
       "850425   5161075    0.534516\n",
       "1658004  6154201    0.500734\n",
       "459392    807480    0.538155\n",
       "1282165  5681303    0.523034\n",
       "1067515  5421245    0.513785\n",
       "558083    925769    0.507660\n",
       "1770484  6291198    0.508995\n",
       "1132468  5499676    0.517179\n",
       "379803    707733    0.525569\n",
       "148219    423422    0.554750"
      ]
     },
     "execution_count": 19,
     "metadata": {},
     "output_type": "execute_result"
    }
   ],
   "source": [
    "# Comments classified as toxic by the model\n",
    "\n",
    "tox"
   ]
  },
  {
   "cell_type": "markdown",
   "metadata": {},
   "source": [
    "# Performance Metrics"
   ]
  },
  {
   "cell_type": "code",
   "execution_count": 20,
   "metadata": {},
   "outputs": [],
   "source": [
    "def get_overall_perf(test, res, thresh=0.5):\n",
    "    accuracy, precision, recall = None, None, None\n",
    "    #test = test.loc[:, 'id':'comment_text']\n",
    "    test['probs'] = res['prediction']\n",
    "    test['preds'] = test['probs'].apply(lambda x: 1 if x >= thresh else 0)\n",
    "    test['true'] = test['target'].apply(lambda x: 1 if x >= thresh else 0)\n",
    "    test['correct'] = test['true']==test['preds']\n",
    "    test['correct'] = test['correct'].apply(lambda x: 1 if x == True else 0)\n",
    "    test1prec = test[test['preds'] == 1]\n",
    "    test1rec = test[(test['true'] == 1) & (test['preds'] == 0)]\n",
    "    accuracy = test['correct'].sum()/len(test) \n",
    "    lenp, lenr, = len(test1prec), len(test1rec)\n",
    "    if lenp > 0:\n",
    "        precision = test1prec['correct'].sum()/lenp\n",
    "    if lenr > 0:\n",
    "        recall = test1prec['correct'].sum()/(test1prec['correct'].sum() + lenr) \n",
    "    f1 = 2*((precision*recall)/(precision+recall))\n",
    "    print(\"Accuracy: {} \\n Precision: {}, Recall: {}, F1 score: {}\".format(accuracy, precision, recall, f1))\n",
    "    return test, accuracy, precision, recall, f1"
   ]
  },
  {
   "cell_type": "code",
   "execution_count": 21,
   "metadata": {},
   "outputs": [
    {
     "name": "stdout",
     "output_type": "stream",
     "text": [
      "Accuracy: 0.924563359345968 \n",
      " Precision: 0.8125, Recall: 0.04133545310015898, F1 score: 0.07866868381240544\n"
     ]
    }
   ],
   "source": [
    "testEXP, accuracy, precision, recall, f1 = get_overall_perf(test, res)"
   ]
  },
  {
   "cell_type": "code",
   "execution_count": 26,
   "metadata": {},
   "outputs": [
    {
     "data": {
      "text/plain": [
       "904703     0\n",
       "401755     0\n",
       "162713     0\n",
       "1170549    0\n",
       "1272446    0\n",
       "33722      0\n",
       "713438     0\n",
       "1008419    0\n",
       "578789     0\n",
       "729212     0\n",
       "1618871    0\n",
       "1722476    0\n",
       "1745327    0\n",
       "963510     0\n",
       "415400     0\n",
       "1243070    0\n",
       "1720473    0\n",
       "1765915    0\n",
       "1770434    0\n",
       "1164379    0\n",
       "887694     0\n",
       "1538479    0\n",
       "885873     0\n",
       "671894     0\n",
       "379448     0\n",
       "858469     0\n",
       "1711553    0\n",
       "1355937    0\n",
       "957943     0\n",
       "629507     0\n",
       "          ..\n",
       "326102     0\n",
       "1226760    1\n",
       "1059162    0\n",
       "668486     0\n",
       "1766249    0\n",
       "1683024    0\n",
       "1623927    0\n",
       "731284     0\n",
       "1583502    0\n",
       "1222184    0\n",
       "1527448    0\n",
       "1583593    0\n",
       "961239     0\n",
       "225996     0\n",
       "323343     0\n",
       "1536691    0\n",
       "115908     0\n",
       "6283       0\n",
       "315031     0\n",
       "933058     0\n",
       "637712     0\n",
       "1027207    0\n",
       "288244     0\n",
       "1477873    0\n",
       "1399369    0\n",
       "590485     0\n",
       "891453     0\n",
       "801628     0\n",
       "1229350    0\n",
       "69889      0\n",
       "Name: identity, Length: 8073, dtype: int64"
      ]
     },
     "execution_count": 26,
     "metadata": {},
     "output_type": "execute_result"
    }
   ],
   "source": [
    "test['identity']"
   ]
  },
  {
   "cell_type": "code",
   "execution_count": 22,
   "metadata": {},
   "outputs": [],
   "source": [
    "# Next steps:\n",
    "\n",
    "# - flexib to choose GRU\n",
    "# - build simple grid to tune hyperparams based on overall performance\n",
    "# - concat =/= embeds: OWN + GloVE, maybe weighted avg "
   ]
  },
  {
   "cell_type": "markdown",
   "metadata": {},
   "source": [
    "Accuracy: 0.9397724118789897 \n",
    " Precision: 0.7596439169139466, Recall: 0.3099273607748184, F1 score: 0.44024075666380047\n",
    "Out[19]:\n",
    "(0.9397724118789897,\n",
    " 0.7596439169139466,\n",
    " 0.3099273607748184,\n",
    " 0.44024075666380047)"
   ]
  },
  {
   "cell_type": "markdown",
   "metadata": {},
   "source": [
    "# Bias & Overall Performance"
   ]
  },
  {
   "cell_type": "code",
   "execution_count": 51,
   "metadata": {},
   "outputs": [],
   "source": [
    "IDENT_LIST = ['asian', 'atheist', 'bisexual', 'black', 'buddhist',  'christian', 'female', 'heterosexual',\n",
    "'hindu', 'homosexual_gay_or_lesbian','intellectual_or_learning_disability','jewish','latino','male',\n",
    "'muslim','other_disability','other_gender','other_race_or_ethnicity','other_religion', 'other_sexual_orientation',\n",
    "              'physical_disability','psychiatric_or_mental_illness', 'transgender', 'white']\n",
    "\n",
    "def get_bias(test, precision, ident_collist=IDENT_LIST, thresh=0.5, wb=0.3, wp=0.7):\n",
    "    \n",
    "    def wav(bias, prec, wb, wp):\n",
    "        return (wb*bias) + (wp*prec)\n",
    "    \n",
    "    test['identity']=(test[ident_collist]>=0.5).max(axis=1).astype(bool)\n",
    "\n",
    "    test['identity'] = test['identity'].apply(lambda x: 1 if x else 0)\n",
    "        \n",
    "    testID = test[test['identity'] == 1]\n",
    "    testNONID = test[test['identity'] == 0]\n",
    "    \n",
    "    testIDprec = testID[testID['preds'] == 1]\n",
    "    accuracyID = testID['correct'].sum()/len(testID) \n",
    "    lenpid = len(testIDprec)\n",
    "    if lenpid > 0:\n",
    "        precID = testIDprec ['correct'].sum()/lenpid \n",
    "    \n",
    "    testNONIDprec = testNONID[testNONID['preds'] == 1]\n",
    "    accuracyNONID = testNONID['correct'].sum()/len(testNONID) \n",
    "    lenpnonid = len(testNONIDprec)\n",
    "    if lenpnonid  > 0:\n",
    "        precNONID = testNONIDprec['correct'].sum()/lenpnonid\n",
    "\n",
    "\n",
    "    bias = precNONID - precID\n",
    "    perf = wav(precision, bias, wb, wp)\n",
    "    print(\"Overall Precision: {} \\n Bias: {}, \\n Overall Performance: {}\".format(precision, bias, perf))\n",
    "    return test, perf, bias"
   ]
  },
  {
   "cell_type": "code",
   "execution_count": 52,
   "metadata": {},
   "outputs": [
    {
     "name": "stdout",
     "output_type": "stream",
     "text": [
      "Overall Precision: 0.8125 \n",
      " Bias: 0.2518518518518519, \n",
      " Overall Performance: 0.4200462962962963\n"
     ]
    }
   ],
   "source": [
    "testEXP2, perf, bias = get_bias(testEXP, precision)"
   ]
  }
 ],
 "metadata": {
  "kernelspec": {
   "display_name": "Python 3",
   "language": "python",
   "name": "python3"
  },
  "language_info": {
   "codemirror_mode": {
    "name": "ipython",
    "version": 3
   },
   "file_extension": ".py",
   "mimetype": "text/x-python",
   "name": "python",
   "nbconvert_exporter": "python",
   "pygments_lexer": "ipython3",
   "version": "3.6.2"
  }
 },
 "nbformat": 4,
 "nbformat_minor": 2
}
