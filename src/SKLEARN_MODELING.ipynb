{
 "cells": [
  {
   "cell_type": "code",
   "execution_count": 8,
   "metadata": {},
   "outputs": [
    {
     "name": "stdout",
     "output_type": "stream",
     "text": [
      "The autoreload extension is already loaded. To reload it, use:\n",
      "  %reload_ext autoreload\n"
     ]
    }
   ],
   "source": [
    "import pandas as pd\n",
    "import numpy as np\n",
    "from modelling.sklearn_dataload import DataPrep\n",
    "from modelling.sklearn_pipeline import Pipeline, model_exec\n",
    "from dataprep.data_prep import TextPrep\n",
    "from sklearn.linear_model import LogisticRegression\n",
    "from sklearn.ensemble import RandomForestClassifier\n",
    "from sklearn.naive_bayes import MultinomialNB\n",
    "import os\n",
    "%load_ext autoreload\n",
    "%autoreload 2"
   ]
  },
  {
   "cell_type": "code",
   "execution_count": 9,
   "metadata": {},
   "outputs": [],
   "source": [
    "grid = {\n",
    "            'LR': {\n",
    "                'type': LogisticRegression(solver='liblinear'),\n",
    "                'grid': {\n",
    "                    'penalty': ['l1','l2'], \n",
    "                    'C': [0.00001, 0.0001, 0.001, 0.01, 0.1, 1, 10]\n",
    "                    }\n",
    "                },\n",
    "            'NB': {\n",
    "                'type': MultinomialNB(),\n",
    "                'grid': {\n",
    "                    'alpha' : [1.0, 0.1, 0.01]\n",
    "                }\n",
    "            },\n",
    "            'RF': {\n",
    "            'type': RandomForestClassifier(n_estimators=50, n_jobs=-1),\n",
    "            'grid': {\n",
    "                'n_estimators': [10,100], \n",
    "                'max_depth': [5,50], \n",
    "                'max_features': ['sqrt','log2'],\n",
    "                'min_samples_split': [2,10]\n",
    "            }\n",
    "        }  \n",
    "}\n",
    "\n",
    "run_type = 'build'\n",
    "scoring = 'auc-roc'\n",
    "sample_pct = 5"
   ]
  },
  {
   "cell_type": "code",
   "execution_count": 10,
   "metadata": {},
   "outputs": [],
   "source": [
    "TRAIN = '../dataset/train.csv'"
   ]
  },
  {
   "cell_type": "code",
   "execution_count": 11,
   "metadata": {},
   "outputs": [],
   "source": [
    "dp = DataPrep(text_col='comment_text', label_col='target')\n",
    "tp = TextPrep()"
   ]
  },
  {
   "cell_type": "code",
   "execution_count": 13,
   "metadata": {
    "scrolled": true
   },
   "outputs": [
    {
     "name": "stdout",
     "output_type": "stream",
     "text": [
      "LOADING 5% OF DATA\n",
      "LOADING FEATURE STAGING DATA\n",
      "DATASET LEN: 90244\n",
      "SPLITTING INTO X, y\n",
      "PRELIMINARY TEXT PROCESSING\n",
      "CREATING TFIDF FEATURES\n",
      "JOINING TFIDF FEATURES\n",
      "droppingxx\n",
      "SPLITTING INTO TRAIN AND TEST\n",
      "(72195, 9999) (18049, 9999) (72195,) (18049,)\n"
     ]
    }
   ],
   "source": [
    "print('LOADING {}% OF DATA'.format(sample_pct))\n",
    "df = dp.load_data(TRAIN, ['target'], sample_pct, 1234)\n",
    "df = dp.binarize_label(df, 0.5)\n",
    "text = dp.get_text(df)\n",
    "print('DATASET LEN: {}'.format(len(df)))\n",
    "\n",
    "print('SPLITTING INTO X, y')\n",
    "X, y = dp.split_X_y(df)\n",
    "\n",
    "print('PRELIMINARY TEXT PROCESSING')\n",
    "clean_data = text.apply(tp.clean, rm_caps=True, map_punct=True, cl_special=True, \n",
    "                        sp_check=False, replace_id=False, rm_stop=False, stem=True, mp_contract=True)\n",
    "\n",
    "print('CREATING TFIDF FEATURES')\n",
    "tfidf = dp.create_text_feats(clean_data, 'tfidf', ngram_range=(1,3), max_features=10000)\n",
    "\n",
    "print('JOINING TFIDF FEATURES')\n",
    "X = dp.join_features(X, tfidf)\n",
    "\n",
    "print('SPLITTING INTO TRAIN AND TEST')\n",
    "X_train, X_test, y_train, y_test = dp.train_test_split(X, y, test_size=.2, train_size=.8, random_state=1234, stratify=None)\n",
    "print(X_train.shape, X_test.shape, y_train.shape, y_test.shape)"
   ]
  },
  {
   "cell_type": "code",
   "execution_count": 14,
   "metadata": {},
   "outputs": [
    {
     "name": "stdout",
     "output_type": "stream",
     "text": [
      "The path of the model object used for this run is found at \n",
      "models_store\n",
      "The scoring function used for this run is: auc-roc\n",
      "The probabilistic threshold at which the score is calculated is 0.5\n",
      "The parameter grid used for the search is: \n",
      "{'LR': {'type': LogisticRegression(C=1.0, class_weight=None, dual=False, fit_intercept=True,\n",
      "          intercept_scaling=1, max_iter=100, multi_class='warn',\n",
      "          n_jobs=None, penalty='l2', random_state=None, solver='liblinear',\n",
      "          tol=0.0001, verbose=0, warm_start=False), 'grid': {'penalty': ['l1', 'l2'], 'C': [1e-05, 0.0001, 0.001, 0.01, 0.1, 1, 10]}}, 'NB': {'type': MultinomialNB(alpha=1.0, class_prior=None, fit_prior=True), 'grid': {'alpha': [1.0, 0.1, 0.01]}}, 'RF': {'type': RandomForestClassifier(bootstrap=True, class_weight=None, criterion='gini',\n",
      "            max_depth=None, max_features='auto', max_leaf_nodes=None,\n",
      "            min_impurity_decrease=0.0, min_impurity_split=None,\n",
      "            min_samples_leaf=1, min_samples_split=2,\n",
      "            min_weight_fraction_leaf=0.0, n_estimators=50, n_jobs=-1,\n",
      "            oob_score=False, random_state=None, verbose=0,\n",
      "            warm_start=False), 'grid': {'n_estimators': [10, 100], 'max_depth': [5, 50], 'max_features': ['sqrt', 'log2'], 'min_samples_split': [2, 10]}}}\n",
      "\n",
      "BEGINNING GRID SEARCH\n",
      "USING SCORING FUNCTION: make_scorer(auc_roc)\n",
      "LogisticRegression(C=1.0, class_weight=None, dual=False, fit_intercept=True,\n",
      "          intercept_scaling=1, max_iter=100, multi_class='warn',\n",
      "          n_jobs=None, penalty='l2', random_state=None, solver='liblinear',\n",
      "          tol=0.0001, verbose=0, warm_start=False) {'penalty': ['l1', 'l2'], 'C': [1e-05, 0.0001, 0.001, 0.01, 0.1, 1, 10]}\n",
      "LogisticRegression(C=1.0, class_weight=None, dual=False, fit_intercept=True,\n",
      "          intercept_scaling=1, max_iter=100, multi_class='warn',\n",
      "          n_jobs=None, penalty='l2', random_state=None, solver='liblinear',\n",
      "          tol=0.0001, verbose=0, warm_start=False)\n",
      "GridSearchCV(cv=5, error_score='raise-deprecating',\n",
      "       estimator=LogisticRegression(C=1.0, class_weight=None, dual=False, fit_intercept=True,\n",
      "          intercept_scaling=1, max_iter=100, multi_class='warn',\n",
      "          n_jobs=None, penalty='l2', random_state=None, solver='liblinear',\n",
      "          tol=0.0001, verbose=0, warm_start=False),\n",
      "       fit_params=None, iid='warn', n_jobs=None,\n",
      "       param_grid={'penalty': ['l1', 'l2'], 'C': [1e-05, 0.0001, 0.001, 0.01, 0.1, 1, 10]},\n",
      "       pre_dispatch='2*n_jobs', refit=True, return_train_score=True,\n",
      "       scoring=make_scorer(auc_roc), verbose=0)\n",
      "LogisticRegression(C=10, class_weight=None, dual=False, fit_intercept=True,\n",
      "          intercept_scaling=1, max_iter=100, multi_class='warn',\n",
      "          n_jobs=None, penalty='l1', random_state=None, solver='liblinear',\n",
      "          tol=0.0001, verbose=0, warm_start=False)\n",
      "0.6753783317527638\n",
      "models_store\n",
      "/Users/hyeyeonchang/Documents/Spring2019/machine_learning/DetoxiPy/src\n",
      "MODEL STORED AT models_store/text_fts_auc_roc_LR_2019-06-02 18:12:36.517402.joblib\n",
      "TESTING SELECTED MODEL ON TEST DATA\n",
      "TEST PRECISION AT 0.5: 0.6330935251798561\n",
      "TEST RECALL AT 0.5: 0.4583333333333333\n",
      "TEST ACCURACY AT 0.5: 0.9570637119113573\n",
      "CONFUSION MATRIX:\n",
      "      0   1\n",
      "0  3367  51\n",
      "1   104  88\n",
      "USING SCORING FUNCTION: make_scorer(auc_roc)\n",
      "MultinomialNB(alpha=1.0, class_prior=None, fit_prior=True) {'alpha': [1.0, 0.1, 0.01]}\n",
      "MultinomialNB(alpha=1.0, class_prior=None, fit_prior=True)\n",
      "GridSearchCV(cv=5, error_score='raise-deprecating',\n",
      "       estimator=MultinomialNB(alpha=1.0, class_prior=None, fit_prior=True),\n",
      "       fit_params=None, iid='warn', n_jobs=None,\n",
      "       param_grid={'alpha': [1.0, 0.1, 0.01]}, pre_dispatch='2*n_jobs',\n",
      "       refit=True, return_train_score=True, scoring=make_scorer(auc_roc),\n",
      "       verbose=0)\n",
      "MultinomialNB(alpha=0.01, class_prior=None, fit_prior=True)\n",
      "0.5093786943656574\n",
      "models_store\n",
      "/Users/hyeyeonchang/Documents/Spring2019/machine_learning/DetoxiPy/src\n",
      "MODEL STORED AT models_store/text_fts_auc_roc_NB_2019-06-02 18:12:56.425174.joblib\n",
      "TESTING SELECTED MODEL ON TEST DATA\n",
      "TEST PRECISION AT 0.5: 1.0\n",
      "TEST RECALL AT 0.5: 0.03125\n",
      "TEST ACCURACY AT 0.5: 0.9484764542936288\n",
      "CONFUSION MATRIX:\n",
      "      0  1\n",
      "0  3418  0\n",
      "1   186  6\n",
      "USING SCORING FUNCTION: make_scorer(auc_roc)\n",
      "RandomForestClassifier(bootstrap=True, class_weight=None, criterion='gini',\n",
      "            max_depth=None, max_features='auto', max_leaf_nodes=None,\n",
      "            min_impurity_decrease=0.0, min_impurity_split=None,\n",
      "            min_samples_leaf=1, min_samples_split=2,\n",
      "            min_weight_fraction_leaf=0.0, n_estimators=50, n_jobs=-1,\n",
      "            oob_score=False, random_state=None, verbose=0,\n",
      "            warm_start=False) {'n_estimators': [10, 100], 'max_depth': [5, 50], 'max_features': ['sqrt', 'log2'], 'min_samples_split': [2, 10]}\n",
      "RandomForestClassifier(bootstrap=True, class_weight=None, criterion='gini',\n",
      "            max_depth=None, max_features='auto', max_leaf_nodes=None,\n",
      "            min_impurity_decrease=0.0, min_impurity_split=None,\n",
      "            min_samples_leaf=1, min_samples_split=2,\n",
      "            min_weight_fraction_leaf=0.0, n_estimators=50, n_jobs=-1,\n",
      "            oob_score=False, random_state=None, verbose=0,\n",
      "            warm_start=False)\n",
      "GridSearchCV(cv=5, error_score='raise-deprecating',\n",
      "       estimator=RandomForestClassifier(bootstrap=True, class_weight=None, criterion='gini',\n",
      "            max_depth=None, max_features='auto', max_leaf_nodes=None,\n",
      "            min_impurity_decrease=0.0, min_impurity_split=None,\n",
      "            min_samples_leaf=1, min_samples_split=2,\n",
      "            min_weight_fraction_leaf=0.0, n_estimators=50, n_jobs=-1,\n",
      "            oob_score=False, random_state=None, verbose=0,\n",
      "            warm_start=False),\n",
      "       fit_params=None, iid='warn', n_jobs=None,\n",
      "       param_grid={'n_estimators': [10, 100], 'max_depth': [5, 50], 'max_features': ['sqrt', 'log2'], 'min_samples_split': [2, 10]},\n",
      "       pre_dispatch='2*n_jobs', refit=True, return_train_score=True,\n",
      "       scoring=make_scorer(auc_roc), verbose=0)\n",
      "RandomForestClassifier(bootstrap=True, class_weight=None, criterion='gini',\n",
      "            max_depth=50, max_features='sqrt', max_leaf_nodes=None,\n",
      "            min_impurity_decrease=0.0, min_impurity_split=None,\n",
      "            min_samples_leaf=1, min_samples_split=2,\n",
      "            min_weight_fraction_leaf=0.0, n_estimators=10, n_jobs=-1,\n",
      "            oob_score=False, random_state=None, verbose=0,\n",
      "            warm_start=False)\n",
      "0.5486889052804333\n",
      "models_store\n",
      "/Users/hyeyeonchang/Documents/Spring2019/machine_learning/DetoxiPy/src\n",
      "MODEL STORED AT models_store/text_fts_auc_roc_RF_2019-06-02 18:18:35.832090.joblib\n",
      "TESTING SELECTED MODEL ON TEST DATA\n",
      "TEST PRECISION AT 0.5: 0.8\n",
      "TEST RECALL AT 0.5: 0.0625\n",
      "TEST ACCURACY AT 0.5: 0.9493074792243767\n",
      "CONFUSION MATRIX:\n",
      "      0   1\n",
      "0  3415   3\n",
      "1   180  12\n"
     ]
    }
   ],
   "source": [
    "# iteration_name = 'no_repl_5pct_auc_roc'\n",
    "# model_exec(run_type, iteration_name, grid, \n",
    "#            scoring,score_k_val, X_train, y_train, X_test, y_test)"
   ]
  },
  {
   "cell_type": "code",
   "execution_count": 17,
   "metadata": {},
   "outputs": [],
   "source": [
    "nb_path = 'no_repl_5pct_auc_roc_NB_2019-06-05 14:28:07.947680.joblib'\n",
    "lr_path = 'no_repl_5pct_auc_roc_LR_2019-06-05 14:24:13.062661.joblib'\n",
    "rf_path = 'no_repl_5pct_auc_roc_RF_2019-06-05 15:15:06.671687.joblib'"
   ]
  },
  {
   "cell_type": "code",
   "execution_count": 18,
   "metadata": {},
   "outputs": [
    {
     "name": "stdout",
     "output_type": "stream",
     "text": [
      "models_store/no_repl_5pct_auc_roc_RF_2019-06-05 15:15:06.671687.joblib\n"
     ]
    }
   ],
   "source": [
    "rf = Pipeline('load', grid_model_id_key=None, \n",
    "              X_train=None, y_train=None,\n",
    "              clf_grid=None, model_obj_pref=None, \n",
    "              scoring=None, threshold=None, \n",
    "              model_obj_path=rf_path)"
   ]
  },
  {
   "cell_type": "code",
   "execution_count": 19,
   "metadata": {},
   "outputs": [],
   "source": [
    "rf_words = rf.word_importances(X_train)"
   ]
  },
  {
   "cell_type": "code",
   "execution_count": 21,
   "metadata": {},
   "outputs": [
    {
     "data": {
      "text/plain": [
       "array(['useless', 'garbag', 'disgust', 'ridicul', 'silli', 'racist',\n",
       "       'ignor', 'clown', 'an idiot', 'damn', 'pathet', 'hypocrit',\n",
       "       'moron', 'ass', 'crap', 'dumb', 'loser', 'fool', 'stupid', 'idiot'],\n",
       "      dtype=object)"
      ]
     },
     "execution_count": 21,
     "metadata": {},
     "output_type": "execute_result"
    }
   ],
   "source": [
    "rf_words[-20:]"
   ]
  },
  {
   "cell_type": "code",
   "execution_count": null,
   "metadata": {},
   "outputs": [],
   "source": []
  }
 ],
 "metadata": {
  "kernelspec": {
   "display_name": "Python 3",
   "language": "python",
   "name": "python3"
  },
  "language_info": {
   "codemirror_mode": {
    "name": "ipython",
    "version": 3
   },
   "file_extension": ".py",
   "mimetype": "text/x-python",
   "name": "python",
   "nbconvert_exporter": "python",
   "pygments_lexer": "ipython3",
   "version": "3.6.7"
  }
 },
 "nbformat": 4,
 "nbformat_minor": 2
}
